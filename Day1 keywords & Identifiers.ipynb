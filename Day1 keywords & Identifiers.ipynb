{
  "nbformat": 4,
  "nbformat_minor": 0,
  "metadata": {
    "colab": {
      "provenance": [],
      "authorship_tag": "ABX9TyMdwH99tzjBDTydUwFyX99/",
      "include_colab_link": true
    },
    "kernelspec": {
      "name": "python3",
      "display_name": "Python 3"
    },
    "language_info": {
      "name": "python"
    }
  },
  "cells": [
    {
      "cell_type": "markdown",
      "metadata": {
        "id": "view-in-github",
        "colab_type": "text"
      },
      "source": [
        "<a href=\"https://colab.research.google.com/github/bhimra/PythonBay/blob/master/Day1%20keywords%20%26%20Identifiers.ipynb\" target=\"_parent\"><img src=\"https://colab.research.google.com/assets/colab-badge.svg\" alt=\"Open In Colab\"/></a>"
      ]
    },
    {
      "cell_type": "code",
      "execution_count": null,
      "metadata": {
        "id": "ThI9Wi0v1EPU"
      },
      "outputs": [],
      "source": [
        "#Day1 *** Keyworks & Identifiers ***\n",
        "\n",
        "#1. Keywords : reserved words which have certain special meaning & purpose in python language.\n",
        "#ex :: if , else, for , while, def, class, true , false, none ete (known as keyworks.)\n",
        "\n",
        "#2. Identifier :\n",
        "#   Names that we give or names defined by us.\n",
        "#      Created by us (programmers/coders)\n",
        "#      Must follow certain rules:\n",
        "#      a. start with some letter (a-z,A-Z) or underscore(\"_\").\n",
        "#      b. are case sensitive.\n",
        "#        ex . \"abc_123\" is different from \"ABC_123\".\n",
        "#NOTE : In short, keywords are pre-defined in the language & identifers are created by human/AI."
      ]
    },
    {
      "cell_type": "markdown",
      "source": [],
      "metadata": {
        "id": "sJnmIfTX4nAq"
      }
    },
    {
      "cell_type": "markdown",
      "source": [
        "# Print *funtion*"
      ],
      "metadata": {
        "id": "N65TprW15LwQ"
      }
    },
    {
      "cell_type": "code",
      "source": [
        "print(\"Hello world\")"
      ],
      "metadata": {
        "colab": {
          "base_uri": "https://localhost:8080/"
        },
        "id": "RltSavou4ovZ",
        "outputId": "450d5407-5b0a-4615-aaaa-9361e77d25cf"
      },
      "execution_count": 1,
      "outputs": [
        {
          "output_type": "stream",
          "name": "stdout",
          "text": [
            "Hello world\n"
          ]
        }
      ]
    },
    {
      "cell_type": "markdown",
      "source": [
        "# Variables\n",
        "1. Used to store values.\n",
        "2. for ex :\n",
        "  abc=10 , x=10 , val=10,\n",
        "  var_name=\"Learnbay\",\n",
        "  str='Learnbay',\n",
        "  my_var='Learnbay',\n",
        "  var_1=\"Learnbay\""
      ],
      "metadata": {
        "id": "6byfMfmo5Y1y"
      }
    },
    {
      "cell_type": "code",
      "source": [
        "my_str = \"Hello World... I am bot \""
      ],
      "metadata": {
        "id": "21iUWAlf5D40"
      },
      "execution_count": 6,
      "outputs": []
    },
    {
      "cell_type": "code",
      "source": [
        "print(my_str)    ##This is print funtion it will print whatever is stored in variable \"my_str\""
      ],
      "metadata": {
        "colab": {
          "base_uri": "https://localhost:8080/"
        },
        "id": "1KwsBvWz5IUe",
        "outputId": "4aea05bd-368f-46f6-f905-7ed1ab1b4d64"
      },
      "execution_count": 7,
      "outputs": [
        {
          "output_type": "stream",
          "name": "stdout",
          "text": [
            "Hello World... I am bot \n"
          ]
        }
      ]
    },
    {
      "cell_type": "code",
      "source": [
        "my_num = 1000"
      ],
      "metadata": {
        "id": "V6jldz7K5ISP"
      },
      "execution_count": 10,
      "outputs": []
    },
    {
      "cell_type": "code",
      "source": [
        "print(my_num)"
      ],
      "metadata": {
        "colab": {
          "base_uri": "https://localhost:8080/"
        },
        "id": "rKqoPPK35IKW",
        "outputId": "41336ae4-a84d-4454-ba0f-9c820b25b196"
      },
      "execution_count": 11,
      "outputs": [
        {
          "output_type": "stream",
          "name": "stdout",
          "text": [
            "1000\n"
          ]
        }
      ]
    },
    {
      "cell_type": "markdown",
      "source": [
        "# DATA **TYPE**\n",
        "\n",
        "1. integer\n",
        "2. float\n",
        "3. string\n",
        "4. boolean\n",
        "\n",
        "\n"
      ],
      "metadata": {
        "id": "TX2btKkr9wBM"
      }
    },
    {
      "cell_type": "code",
      "source": [
        "var_name = \"Chatbot\"  ##variable meaningful naam k hone chye\n",
        "print(var_name)"
      ],
      "metadata": {
        "colab": {
          "base_uri": "https://localhost:8080/"
        },
        "id": "e40a5szI71Jo",
        "outputId": "ae835382-33c9-439b-b191-255589098641"
      },
      "execution_count": 13,
      "outputs": [
        {
          "output_type": "stream",
          "name": "stdout",
          "text": [
            "Chatbot\n"
          ]
        }
      ]
    },
    {
      "cell_type": "code",
      "source": [
        "## Float data type\n",
        "my_floatNum = '12.22'\n",
        "print(my_floatNum)"
      ],
      "metadata": {
        "colab": {
          "base_uri": "https://localhost:8080/"
        },
        "id": "MhCzIilt_Z-A",
        "outputId": "1a463044-7257-453c-90f0-4fd36bc4df2f"
      },
      "execution_count": 15,
      "outputs": [
        {
          "output_type": "stream",
          "name": "stdout",
          "text": [
            "12.22\n"
          ]
        }
      ]
    },
    {
      "cell_type": "code",
      "source": [
        "## String\n",
        "my_str = 'openbot'\n",
        "print(my_str)"
      ],
      "metadata": {
        "colab": {
          "base_uri": "https://localhost:8080/"
        },
        "id": "ZtadcUFM_yPK",
        "outputId": "6762bd9e-2967-4fd0-c4b8-caf307c7f4e7"
      },
      "execution_count": 16,
      "outputs": [
        {
          "output_type": "stream",
          "name": "stdout",
          "text": [
            "openbot\n"
          ]
        }
      ]
    },
    {
      "cell_type": "code",
      "source": [
        "## boolean can take either True or False\n",
        "my_bool = True\n",
        "print(my_bool)"
      ],
      "metadata": {
        "colab": {
          "base_uri": "https://localhost:8080/"
        },
        "id": "saYS168_ABDc",
        "outputId": "1260d46d-f3c1-4605-827e-652e03d6c6b2"
      },
      "execution_count": 17,
      "outputs": [
        {
          "output_type": "stream",
          "name": "stdout",
          "text": [
            "True\n"
          ]
        }
      ]
    },
    {
      "cell_type": "code",
      "source": [
        "my_bool1 = False\n",
        "print(my_bool1)"
      ],
      "metadata": {
        "colab": {
          "base_uri": "https://localhost:8080/"
        },
        "id": "J4Y89erqAMjO",
        "outputId": "48c25925-5ccf-400b-ddf6-12103d16b49c"
      },
      "execution_count": 18,
      "outputs": [
        {
          "output_type": "stream",
          "name": "stdout",
          "text": [
            "False\n"
          ]
        }
      ]
    },
    {
      "cell_type": "markdown",
      "source": [
        "If & elif & else"
      ],
      "metadata": {
        "id": "AzlnchumCMY7"
      }
    },
    {
      "cell_type": "code",
      "source": [],
      "metadata": {
        "id": "w_Y0S6syA4T0"
      },
      "execution_count": 18,
      "outputs": []
    }
  ]
}