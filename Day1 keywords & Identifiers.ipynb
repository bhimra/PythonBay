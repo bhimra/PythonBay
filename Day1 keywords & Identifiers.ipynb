{
  "nbformat": 4,
  "nbformat_minor": 0,
  "metadata": {
    "colab": {
      "provenance": [],
      "authorship_tag": "ABX9TyPAVdLU66dHIYpA8UeuMMvu",
      "include_colab_link": true
    },
    "kernelspec": {
      "name": "python3",
      "display_name": "Python 3"
    },
    "language_info": {
      "name": "python"
    }
  },
  "cells": [
    {
      "cell_type": "markdown",
      "metadata": {
        "id": "view-in-github",
        "colab_type": "text"
      },
      "source": [
        "<a href=\"https://colab.research.google.com/github/bhimra/PythonBay/blob/master/Day1%20keywords%20%26%20Identifiers.ipynb\" target=\"_parent\"><img src=\"https://colab.research.google.com/assets/colab-badge.svg\" alt=\"Open In Colab\"/></a>"
      ]
    },
    {
      "cell_type": "code",
      "execution_count": null,
      "metadata": {
        "id": "ThI9Wi0v1EPU"
      },
      "outputs": [],
      "source": [
        "#Day1 *** Keyworks & Identifiers ***\n",
        "\n",
        "#1. Keywords : reserved words which have certain special meaning & purpose in python language.\n",
        "#ex :: if , else, for , while, def, class, true , false, none ete (known as keyworks.)\n",
        "\n",
        "#2. Identifier :\n",
        "#   Names that we give or names defined by us.\n",
        "#      Created by us (programmers/coders)\n",
        "#      Must follow certain rules:\n",
        "#      a. start with some letter (a-z,A-Z) or underscore(\"_\").\n",
        "#      b. are case sensitive.\n",
        "#        ex . \"abc_123\" is different from \"ABC_123\".\n",
        "#NOTE : In short, keywords are pre-defined in the language & identifers are created by human/AI.\n",
        "#\n",
        "#####"
      ]
    }
  ]
}