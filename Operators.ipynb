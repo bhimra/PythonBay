{
  "cells": [
    {
      "cell_type": "markdown",
      "metadata": {
        "id": "view-in-github",
        "colab_type": "text"
      },
      "source": [
        "<a href=\"https://colab.research.google.com/github/bhimra/PythonBay/blob/master/Operators.ipynb\" target=\"_parent\"><img src=\"https://colab.research.google.com/assets/colab-badge.svg\" alt=\"Open In Colab\"/></a>"
      ]
    },
    {
      "cell_type": "markdown",
      "id": "85cab5a5-6eb7-49de-88d2-b63f9a14b265",
      "metadata": {
        "id": "85cab5a5-6eb7-49de-88d2-b63f9a14b265"
      },
      "source": [
        "# Operators:\n",
        "\n",
        "- whenever we want to perfrom any peration between the operands we take the help of Operators.\n",
        "\n",
        "  ### Different types of Operators:\n",
        "\n",
        "  - Arithematic Operator: +,-,*,/,%,//, **\n",
        "  - Assignment Operartor: = , +=, -=, *=,/ =,.......\n",
        "  - Comparison Operator: ==, !=,> , < ,>= ,<=\n",
        "  - Logical Operators  : and , or , not\n",
        "  - Membership Operators: in , not in\n",
        "  - Identity Operators: is , is not"
      ]
    },
    {
      "cell_type": "code",
      "execution_count": null,
      "id": "9b532f6f-c269-4006-bc94-2a2d7bb9caad",
      "metadata": {
        "id": "9b532f6f-c269-4006-bc94-2a2d7bb9caad",
        "outputId": "95efc269-241c-4c6f-f131-91e827e3bcb0"
      },
      "outputs": [
        {
          "name": "stdout",
          "output_type": "stream",
          "text": [
            "30\n",
            "-10\n",
            "200\n"
          ]
        }
      ],
      "source": [
        "a=10\n",
        "b=20\n",
        "\n",
        "print(a+b)\n",
        "print(a-b)\n",
        "print(a*b)\n"
      ]
    },
    {
      "cell_type": "code",
      "execution_count": null,
      "id": "e00d3b93-fdda-4253-82cf-f9f7c049bb48",
      "metadata": {
        "id": "e00d3b93-fdda-4253-82cf-f9f7c049bb48",
        "outputId": "e07431b7-7122-4c50-b978-c3a37c30e7fa"
      },
      "outputs": [
        {
          "data": {
            "text/plain": [
              "2.0"
            ]
          },
          "execution_count": 8,
          "metadata": {},
          "output_type": "execute_result"
        }
      ],
      "source": [
        "b/a"
      ]
    },
    {
      "cell_type": "code",
      "execution_count": null,
      "id": "8c438d26-fa6b-469b-863c-dabdba7f2b68",
      "metadata": {
        "id": "8c438d26-fa6b-469b-863c-dabdba7f2b68"
      },
      "outputs": [],
      "source": [
        "#floor division : //"
      ]
    },
    {
      "cell_type": "code",
      "execution_count": null,
      "id": "7fcabab6-7c34-4c2d-bcd0-9c6d12c65d04",
      "metadata": {
        "id": "7fcabab6-7c34-4c2d-bcd0-9c6d12c65d04",
        "outputId": "93aa388b-f280-4e77-cbfb-3e6301ceee12"
      },
      "outputs": [
        {
          "data": {
            "text/plain": [
              "7"
            ]
          },
          "execution_count": 22,
          "metadata": {},
          "output_type": "execute_result"
        }
      ],
      "source": [
        "22//3"
      ]
    },
    {
      "cell_type": "code",
      "execution_count": null,
      "id": "718ad91a-adf8-4309-8a57-fcb9bbf396de",
      "metadata": {
        "id": "718ad91a-adf8-4309-8a57-fcb9bbf396de",
        "outputId": "ba3ff689-eeee-426d-df43-1ce7c05ba266"
      },
      "outputs": [
        {
          "data": {
            "text/plain": [
              "3"
            ]
          },
          "execution_count": 26,
          "metadata": {},
          "output_type": "execute_result"
        }
      ],
      "source": [
        "15//4"
      ]
    },
    {
      "cell_type": "code",
      "execution_count": null,
      "id": "d0632d3b-f485-46c5-8b3a-e5d2de7aae8f",
      "metadata": {
        "id": "d0632d3b-f485-46c5-8b3a-e5d2de7aae8f",
        "outputId": "172fb23a-e644-403e-d3db-38f52edae77f"
      },
      "outputs": [
        {
          "data": {
            "text/plain": [
              "1"
            ]
          },
          "execution_count": 10,
          "metadata": {},
          "output_type": "execute_result"
        }
      ],
      "source": [
        "#modulus :% (whenever we want to check the divisibility factor we use modulus)\n",
        "58%3"
      ]
    },
    {
      "cell_type": "code",
      "execution_count": null,
      "id": "ae8ccaad-7bf5-48e5-9fc4-aedfec88b4e4",
      "metadata": {
        "id": "ae8ccaad-7bf5-48e5-9fc4-aedfec88b4e4",
        "outputId": "c3b263ed-0fa5-4e79-f7f2-21f75965b7d8"
      },
      "outputs": [
        {
          "data": {
            "text/plain": [
              "0"
            ]
          },
          "execution_count": 12,
          "metadata": {},
          "output_type": "execute_result"
        }
      ],
      "source": [
        "54%2"
      ]
    },
    {
      "cell_type": "code",
      "execution_count": null,
      "id": "6d6addbf-374b-41d7-8d49-2ba0030fdd7a",
      "metadata": {
        "id": "6d6addbf-374b-41d7-8d49-2ba0030fdd7a",
        "outputId": "a59275ab-9857-4d84-bfa5-a01016ba16fe"
      },
      "outputs": [
        {
          "data": {
            "text/plain": [
              "1"
            ]
          },
          "execution_count": 14,
          "metadata": {},
          "output_type": "execute_result"
        }
      ],
      "source": [
        "23%2"
      ]
    },
    {
      "cell_type": "code",
      "execution_count": null,
      "id": "d2efd745-5f7e-4856-b26a-02896d13c8ca",
      "metadata": {
        "id": "d2efd745-5f7e-4856-b26a-02896d13c8ca",
        "outputId": "33a5c66f-eced-4eca-a9d2-d8faf57d260c"
      },
      "outputs": [
        {
          "data": {
            "text/plain": [
              "4"
            ]
          },
          "execution_count": 18,
          "metadata": {},
          "output_type": "execute_result"
        }
      ],
      "source": [
        "99%5"
      ]
    },
    {
      "cell_type": "code",
      "execution_count": null,
      "id": "0f7128a6-3015-4e49-ada2-9dac75c8322e",
      "metadata": {
        "id": "0f7128a6-3015-4e49-ada2-9dac75c8322e",
        "outputId": "09898881-272c-453f-d381-539c345b5025"
      },
      "outputs": [
        {
          "data": {
            "text/plain": [
              "99"
            ]
          },
          "execution_count": 20,
          "metadata": {},
          "output_type": "execute_result"
        }
      ],
      "source": [
        "99%100"
      ]
    },
    {
      "cell_type": "code",
      "execution_count": null,
      "id": "5dff07bd-bb19-4bd3-bbd5-5e454d94545e",
      "metadata": {
        "id": "5dff07bd-bb19-4bd3-bbd5-5e454d94545e",
        "outputId": "6dc70b15-63d4-4b84-bb3d-781d2a89025f"
      },
      "outputs": [
        {
          "data": {
            "text/plain": [
              "32768"
            ]
          },
          "execution_count": 34,
          "metadata": {},
          "output_type": "execute_result"
        }
      ],
      "source": [
        "#exponent or power\n",
        "2**15"
      ]
    },
    {
      "cell_type": "code",
      "execution_count": null,
      "id": "6d48e191-9c99-4a5c-aa77-5e43087afa10",
      "metadata": {
        "id": "6d48e191-9c99-4a5c-aa77-5e43087afa10",
        "outputId": "61b18bce-b1fd-4814-eb77-e1a470d0f18e"
      },
      "outputs": [
        {
          "data": {
            "text/plain": [
              "1296"
            ]
          },
          "execution_count": 36,
          "metadata": {},
          "output_type": "execute_result"
        }
      ],
      "source": [
        "6**4"
      ]
    },
    {
      "cell_type": "markdown",
      "id": "3d99446b-2232-4997-8f82-cfb0c322e47b",
      "metadata": {
        "id": "3d99446b-2232-4997-8f82-cfb0c322e47b"
      },
      "source": [
        "## Assignment Operators:"
      ]
    },
    {
      "cell_type": "code",
      "execution_count": null,
      "id": "afb1a128-3242-4660-b380-d7caa3c7a170",
      "metadata": {
        "id": "afb1a128-3242-4660-b380-d7caa3c7a170"
      },
      "outputs": [],
      "source": [
        "var=100"
      ]
    },
    {
      "cell_type": "code",
      "execution_count": null,
      "id": "ccd5fe8b-aff5-4007-b118-89d67b050333",
      "metadata": {
        "id": "ccd5fe8b-aff5-4007-b118-89d67b050333",
        "outputId": "fdc09c9b-56cc-4f1b-dfae-53f20b6d9d5b"
      },
      "outputs": [
        {
          "name": "stdout",
          "output_type": "stream",
          "text": [
            "101\n"
          ]
        }
      ],
      "source": [
        "var+=1    #var=var+1\n",
        "print(var)"
      ]
    },
    {
      "cell_type": "code",
      "execution_count": null,
      "id": "42a491fc-801f-4d17-93c2-18db5b1b2909",
      "metadata": {
        "id": "42a491fc-801f-4d17-93c2-18db5b1b2909",
        "outputId": "63d15f14-f0c9-4e7f-fd39-d13c4054d81c"
      },
      "outputs": [
        {
          "name": "stdout",
          "output_type": "stream",
          "text": [
            "96\n"
          ]
        }
      ],
      "source": [
        "var-=5   #var=var-5\n",
        "print(var)"
      ]
    },
    {
      "cell_type": "code",
      "execution_count": null,
      "id": "3aee640f-e2f0-47bc-a61f-c83cfe4e3822",
      "metadata": {
        "id": "3aee640f-e2f0-47bc-a61f-c83cfe4e3822",
        "outputId": "e49e6fd0-4cd8-4308-97da-35a603f8bb90"
      },
      "outputs": [
        {
          "data": {
            "text/plain": [
              "0"
            ]
          },
          "execution_count": 48,
          "metadata": {},
          "output_type": "execute_result"
        }
      ],
      "source": [
        "var%=6\n",
        "var"
      ]
    },
    {
      "cell_type": "markdown",
      "id": "115e17ad-547c-4470-97d4-34b56f195df5",
      "metadata": {
        "id": "115e17ad-547c-4470-97d4-34b56f195df5"
      },
      "source": [
        "## Comparison Operators:"
      ]
    },
    {
      "cell_type": "code",
      "execution_count": null,
      "id": "8de5312a-cf67-47ab-a929-a5296cd918b3",
      "metadata": {
        "id": "8de5312a-cf67-47ab-a929-a5296cd918b3",
        "outputId": "96f0729c-c4eb-4dd3-9e70-1dd9c60f847a"
      },
      "outputs": [
        {
          "data": {
            "text/plain": [
              "10"
            ]
          },
          "execution_count": 51,
          "metadata": {},
          "output_type": "execute_result"
        }
      ],
      "source": [
        "a"
      ]
    },
    {
      "cell_type": "code",
      "execution_count": null,
      "id": "8abd45fe-911b-4a09-bd7e-9e5d64147101",
      "metadata": {
        "id": "8abd45fe-911b-4a09-bd7e-9e5d64147101",
        "outputId": "9d26e2db-672f-4b5d-b72f-cd3c8465c5bb"
      },
      "outputs": [
        {
          "data": {
            "text/plain": [
              "True"
            ]
          },
          "execution_count": 53,
          "metadata": {},
          "output_type": "execute_result"
        }
      ],
      "source": [
        "a==10"
      ]
    },
    {
      "cell_type": "code",
      "execution_count": null,
      "id": "89175135-e2db-47ec-a6c8-2daca0b3fda7",
      "metadata": {
        "id": "89175135-e2db-47ec-a6c8-2daca0b3fda7",
        "outputId": "433731e2-0be8-4fb8-e4e0-749c2cbab1c3"
      },
      "outputs": [
        {
          "data": {
            "text/plain": [
              "True"
            ]
          },
          "execution_count": 55,
          "metadata": {},
          "output_type": "execute_result"
        }
      ],
      "source": [
        "a%2==0"
      ]
    },
    {
      "cell_type": "code",
      "execution_count": null,
      "id": "7b10726e-70f2-40b9-b2da-819c1d709051",
      "metadata": {
        "id": "7b10726e-70f2-40b9-b2da-819c1d709051",
        "outputId": "1f43ba1e-58bc-4903-db4a-d28c3ed2d597"
      },
      "outputs": [
        {
          "data": {
            "text/plain": [
              "False"
            ]
          },
          "execution_count": 57,
          "metadata": {},
          "output_type": "execute_result"
        }
      ],
      "source": [
        "7%45 != 7"
      ]
    },
    {
      "cell_type": "code",
      "execution_count": null,
      "id": "98634b15-a274-4310-b204-bb9158c3d949",
      "metadata": {
        "id": "98634b15-a274-4310-b204-bb9158c3d949",
        "outputId": "5ebc0acb-d50b-4831-facc-108f67bbbdcf"
      },
      "outputs": [
        {
          "data": {
            "text/plain": [
              "True"
            ]
          },
          "execution_count": 59,
          "metadata": {},
          "output_type": "execute_result"
        }
      ],
      "source": [
        "3%34 != 7"
      ]
    },
    {
      "cell_type": "code",
      "execution_count": null,
      "id": "efdbfe69-50b1-4cd1-97de-f8a583f391f7",
      "metadata": {
        "id": "efdbfe69-50b1-4cd1-97de-f8a583f391f7",
        "outputId": "8f7d707e-8f92-4590-cab5-12d2145ac48b"
      },
      "outputs": [
        {
          "data": {
            "text/plain": [
              "True"
            ]
          },
          "execution_count": 61,
          "metadata": {},
          "output_type": "execute_result"
        }
      ],
      "source": [
        "100>7"
      ]
    },
    {
      "cell_type": "code",
      "execution_count": null,
      "id": "2f545701-08d6-48e6-ae5f-76fffd76bc4a",
      "metadata": {
        "id": "2f545701-08d6-48e6-ae5f-76fffd76bc4a",
        "outputId": "41529373-bb4c-44b0-adad-591c4091fd3e"
      },
      "outputs": [
        {
          "data": {
            "text/plain": [
              "False"
            ]
          },
          "execution_count": 63,
          "metadata": {},
          "output_type": "execute_result"
        }
      ],
      "source": [
        "67<56"
      ]
    },
    {
      "cell_type": "code",
      "execution_count": null,
      "id": "f6d6430d-a32c-4e0e-8018-ef274a2608d4",
      "metadata": {
        "id": "f6d6430d-a32c-4e0e-8018-ef274a2608d4",
        "outputId": "a7241cdc-cb56-42b1-b605-5278c83ebeb8"
      },
      "outputs": [
        {
          "data": {
            "text/plain": [
              "True"
            ]
          },
          "execution_count": 65,
          "metadata": {},
          "output_type": "execute_result"
        }
      ],
      "source": [
        "34>=34   # if 34 is greater than 5 or if 34 is == 5 or not"
      ]
    },
    {
      "cell_type": "code",
      "execution_count": null,
      "id": "657e23eb-c362-4bd0-b25a-88761105c072",
      "metadata": {
        "id": "657e23eb-c362-4bd0-b25a-88761105c072",
        "outputId": "9d1d3932-75d8-45ef-b72c-b4e86d3e432d"
      },
      "outputs": [
        {
          "data": {
            "text/plain": [
              "True"
            ]
          },
          "execution_count": 67,
          "metadata": {},
          "output_type": "execute_result"
        }
      ],
      "source": [
        "56>=45"
      ]
    },
    {
      "cell_type": "code",
      "execution_count": null,
      "id": "6f6d718f-afaa-44bd-b8c0-b5e0d14df6f7",
      "metadata": {
        "id": "6f6d718f-afaa-44bd-b8c0-b5e0d14df6f7",
        "outputId": "edafca93-c971-4182-ba95-2fa05a32b766"
      },
      "outputs": [
        {
          "data": {
            "text/plain": [
              "False"
            ]
          },
          "execution_count": 69,
          "metadata": {},
          "output_type": "execute_result"
        }
      ],
      "source": [
        "45>=56"
      ]
    },
    {
      "cell_type": "code",
      "execution_count": null,
      "id": "05db2fc7-316b-4ac3-be72-69e1d20b15df",
      "metadata": {
        "id": "05db2fc7-316b-4ac3-be72-69e1d20b15df",
        "outputId": "1b5de8db-f9f6-4819-f0cc-2d4f5a7e37db"
      },
      "outputs": [
        {
          "data": {
            "text/plain": [
              "True"
            ]
          },
          "execution_count": 71,
          "metadata": {},
          "output_type": "execute_result"
        }
      ],
      "source": [
        "100<=100  #if 100 is less than 100 or 100 is == 100"
      ]
    },
    {
      "cell_type": "code",
      "execution_count": null,
      "id": "33bc67d4-ec01-4f3d-b857-8ac2b074f7cf",
      "metadata": {
        "id": "33bc67d4-ec01-4f3d-b857-8ac2b074f7cf",
        "outputId": "c45c1404-c534-443e-eedf-b38eca6f396e"
      },
      "outputs": [
        {
          "data": {
            "text/plain": [
              "False"
            ]
          },
          "execution_count": 73,
          "metadata": {},
          "output_type": "execute_result"
        }
      ],
      "source": [
        "45>=49"
      ]
    },
    {
      "cell_type": "markdown",
      "id": "f01298f7-ab19-4aab-9eb5-a2eec4fdd454",
      "metadata": {
        "id": "f01298f7-ab19-4aab-9eb5-a2eec4fdd454"
      },
      "source": [
        "## Logical Operators:"
      ]
    },
    {
      "cell_type": "code",
      "execution_count": null,
      "id": "ce783880-812e-41bf-b902-1516ba77b871",
      "metadata": {
        "id": "ce783880-812e-41bf-b902-1516ba77b871",
        "outputId": "c279c8c1-88f3-4e3c-b191-384f6efd5851"
      },
      "outputs": [
        {
          "data": {
            "text/plain": [
              "False"
            ]
          },
          "execution_count": 79,
          "metadata": {},
          "output_type": "execute_result"
        }
      ],
      "source": [
        "y1=\"abc\"\n",
        "x1=\"400\"\n",
        "z1=50\n",
        "\n",
        "(y1==\"Abc\") and (x1==\"400\" or z1%2==0)"
      ]
    },
    {
      "cell_type": "code",
      "execution_count": null,
      "id": "7873b0b0-4ea8-4951-bc49-b370cb334318",
      "metadata": {
        "id": "7873b0b0-4ea8-4951-bc49-b370cb334318",
        "outputId": "a2a26ddc-d045-47f4-83c5-136bf2665a8b"
      },
      "outputs": [
        {
          "data": {
            "text/plain": [
              "False"
            ]
          },
          "execution_count": 81,
          "metadata": {},
          "output_type": "execute_result"
        }
      ],
      "source": [
        "#not --- negation:\n",
        "\n",
        "not(True)"
      ]
    },
    {
      "cell_type": "code",
      "execution_count": null,
      "id": "74d02fd6-71be-4c67-b7c1-50aa29e2522d",
      "metadata": {
        "id": "74d02fd6-71be-4c67-b7c1-50aa29e2522d",
        "outputId": "f48e24f8-c4ac-49a1-ddc6-4155e0265007"
      },
      "outputs": [
        {
          "data": {
            "text/plain": [
              "True"
            ]
          },
          "execution_count": 83,
          "metadata": {},
          "output_type": "execute_result"
        }
      ],
      "source": [
        "not(False)"
      ]
    },
    {
      "cell_type": "code",
      "execution_count": null,
      "id": "2529ce34-6b9e-47aa-a286-3d1a28a53cac",
      "metadata": {
        "id": "2529ce34-6b9e-47aa-a286-3d1a28a53cac",
        "outputId": "67fd81b9-f412-4613-fcbd-646dc661024d"
      },
      "outputs": [
        {
          "data": {
            "text/plain": [
              "True"
            ]
          },
          "execution_count": 85,
          "metadata": {},
          "output_type": "execute_result"
        }
      ],
      "source": [
        "not(x1==400 and z1%2==0)"
      ]
    },
    {
      "cell_type": "markdown",
      "id": "a93f963a-4f11-4e88-99bc-dab734964faf",
      "metadata": {
        "id": "a93f963a-4f11-4e88-99bc-dab734964faf"
      },
      "source": [
        "## Membership Operators:"
      ]
    },
    {
      "cell_type": "code",
      "execution_count": null,
      "id": "72fd538a-5613-44a7-ad7e-ea890dcb75dd",
      "metadata": {
        "id": "72fd538a-5613-44a7-ad7e-ea890dcb75dd",
        "outputId": "e1d41647-67e5-4ee6-f219-e817bebe74ac"
      },
      "outputs": [
        {
          "data": {
            "text/plain": [
              "True"
            ]
          },
          "execution_count": 88,
          "metadata": {},
          "output_type": "execute_result"
        }
      ],
      "source": [
        "list_1=[10,20,30,40,60,708]\n",
        "\n",
        "30 in list_1"
      ]
    },
    {
      "cell_type": "code",
      "execution_count": null,
      "id": "3bda3549-d938-4838-86eb-0861cb746331",
      "metadata": {
        "id": "3bda3549-d938-4838-86eb-0861cb746331",
        "outputId": "62c2561e-f1e9-4c44-a601-e2f0baa5dfab"
      },
      "outputs": [
        {
          "data": {
            "text/plain": [
              "False"
            ]
          },
          "execution_count": 92,
          "metadata": {},
          "output_type": "execute_result"
        }
      ],
      "source": [
        "\"30\" in list_1"
      ]
    },
    {
      "cell_type": "code",
      "execution_count": null,
      "id": "08dad9d0-08c3-4a58-8d91-063d74e22274",
      "metadata": {
        "id": "08dad9d0-08c3-4a58-8d91-063d74e22274",
        "outputId": "6b8035dd-858e-4d12-8777-c3c774d4b0da"
      },
      "outputs": [
        {
          "data": {
            "text/plain": [
              "True"
            ]
          },
          "execution_count": 96,
          "metadata": {},
          "output_type": "execute_result"
        }
      ],
      "source": [
        "tuple_1=10,20,30,\"apple\",\"mango\"\n",
        "\n",
        "\"apple\" in tuple_1"
      ]
    },
    {
      "cell_type": "code",
      "execution_count": null,
      "id": "a1f809e7-6379-4ccc-8a1b-c0953e1dba41",
      "metadata": {
        "id": "a1f809e7-6379-4ccc-8a1b-c0953e1dba41",
        "outputId": "9e730b9c-f5a5-49c8-96c9-2d0754b2cc81"
      },
      "outputs": [
        {
          "data": {
            "text/plain": [
              "True"
            ]
          },
          "execution_count": 98,
          "metadata": {},
          "output_type": "execute_result"
        }
      ],
      "source": [
        "dict_1={\"name\":\"xyz\",\"age\":30}  #it gives priority to keys\n",
        "\"name\" in dict_1"
      ]
    },
    {
      "cell_type": "code",
      "execution_count": null,
      "id": "7ff291b8-de22-4e7c-84fb-dec11bd37d5a",
      "metadata": {
        "id": "7ff291b8-de22-4e7c-84fb-dec11bd37d5a",
        "outputId": "44522f28-072c-4b96-a56d-c1e34154074e"
      },
      "outputs": [
        {
          "data": {
            "text/plain": [
              "False"
            ]
          },
          "execution_count": 100,
          "metadata": {},
          "output_type": "execute_result"
        }
      ],
      "source": [
        "30 in dict_1"
      ]
    },
    {
      "cell_type": "code",
      "execution_count": null,
      "id": "d506ab25-50a9-4197-baee-da0bc6cd7322",
      "metadata": {
        "id": "d506ab25-50a9-4197-baee-da0bc6cd7322",
        "outputId": "cc710530-b069-4166-8ae2-f8e9a8b48b8a"
      },
      "outputs": [
        {
          "data": {
            "text/plain": [
              "True"
            ]
          },
          "execution_count": 102,
          "metadata": {},
          "output_type": "execute_result"
        }
      ],
      "source": [
        "30 in dict_1.values()"
      ]
    },
    {
      "cell_type": "code",
      "execution_count": null,
      "id": "2ee1f4ac-62cc-406b-8c7d-4097ae9914f8",
      "metadata": {
        "id": "2ee1f4ac-62cc-406b-8c7d-4097ae9914f8",
        "outputId": "4f56d564-26d9-41b5-c0e8-697bb153024a"
      },
      "outputs": [
        {
          "data": {
            "text/plain": [
              "dict_values(['xyz', 30])"
            ]
          },
          "execution_count": 104,
          "metadata": {},
          "output_type": "execute_result"
        }
      ],
      "source": [
        "dict_1.values()"
      ]
    },
    {
      "cell_type": "code",
      "execution_count": null,
      "id": "79141f58-4302-4203-a984-a32b927fd6b6",
      "metadata": {
        "id": "79141f58-4302-4203-a984-a32b927fd6b6",
        "outputId": "49407cb8-45e4-44d3-d7ef-f861e5fab455"
      },
      "outputs": [
        {
          "data": {
            "text/plain": [
              "False"
            ]
          },
          "execution_count": 106,
          "metadata": {},
          "output_type": "execute_result"
        }
      ],
      "source": [
        "20 not in tuple_1"
      ]
    },
    {
      "cell_type": "code",
      "execution_count": null,
      "id": "ba48b80c-b366-44ab-a85a-bad157e4bc90",
      "metadata": {
        "id": "ba48b80c-b366-44ab-a85a-bad157e4bc90",
        "outputId": "a8ac7f85-3072-4f1b-c1d7-3f3465eb66ab"
      },
      "outputs": [
        {
          "data": {
            "text/plain": [
              "True"
            ]
          },
          "execution_count": 108,
          "metadata": {},
          "output_type": "execute_result"
        }
      ],
      "source": [
        "100 not in tuple_1"
      ]
    },
    {
      "cell_type": "markdown",
      "id": "0ed45ed3-3fa8-4f8e-98d6-3fa306238a05",
      "metadata": {
        "id": "0ed45ed3-3fa8-4f8e-98d6-3fa306238a05"
      },
      "source": [
        "# Identity Operators:"
      ]
    },
    {
      "cell_type": "code",
      "execution_count": null,
      "id": "f7d6cddc-30b9-4fe8-8cf2-db408de11595",
      "metadata": {
        "id": "f7d6cddc-30b9-4fe8-8cf2-db408de11595",
        "outputId": "3caa034f-968a-4150-e31b-f023dfb582cb"
      },
      "outputs": [
        {
          "data": {
            "text/plain": [
              "4373849256"
            ]
          },
          "execution_count": 118,
          "metadata": {},
          "output_type": "execute_result"
        }
      ],
      "source": [
        "#if the memory location of two variables are matching then it is going to return the answer as True.\n",
        "\n",
        "x=19\n",
        "y=20\n",
        "\n",
        "id(x)"
      ]
    },
    {
      "cell_type": "code",
      "execution_count": null,
      "id": "6428bcd5-b538-464c-9ee6-0a63e81baddd",
      "metadata": {
        "id": "6428bcd5-b538-464c-9ee6-0a63e81baddd",
        "outputId": "f11ec1f2-512f-40ce-c64d-4345e15ff704"
      },
      "outputs": [
        {
          "data": {
            "text/plain": [
              "4373849288"
            ]
          },
          "execution_count": 120,
          "metadata": {},
          "output_type": "execute_result"
        }
      ],
      "source": [
        "id(y)"
      ]
    },
    {
      "cell_type": "code",
      "execution_count": null,
      "id": "f58d8690-2523-4011-8971-e0273be10cf8",
      "metadata": {
        "id": "f58d8690-2523-4011-8971-e0273be10cf8",
        "outputId": "b6b16b74-963d-459b-be8a-933a7634b8b9"
      },
      "outputs": [
        {
          "data": {
            "text/plain": [
              "False"
            ]
          },
          "execution_count": 122,
          "metadata": {},
          "output_type": "execute_result"
        }
      ],
      "source": [
        "x is y"
      ]
    },
    {
      "cell_type": "code",
      "execution_count": null,
      "id": "82596c98-fab2-49e1-9308-be762f0bb3e9",
      "metadata": {
        "id": "82596c98-fab2-49e1-9308-be762f0bb3e9",
        "outputId": "a24d46af-fc7b-4fad-f596-abe0eae323dc"
      },
      "outputs": [
        {
          "data": {
            "text/plain": [
              "True"
            ]
          },
          "execution_count": 124,
          "metadata": {},
          "output_type": "execute_result"
        }
      ],
      "source": [
        "x is not y"
      ]
    },
    {
      "cell_type": "code",
      "execution_count": null,
      "id": "646883da-ddd7-4cab-9035-bd2bb456f9ee",
      "metadata": {
        "id": "646883da-ddd7-4cab-9035-bd2bb456f9ee",
        "outputId": "13a544c9-9b0e-4f97-8054-ee98298e0706"
      },
      "outputs": [
        {
          "data": {
            "text/plain": [
              "False"
            ]
          },
          "execution_count": 126,
          "metadata": {},
          "output_type": "execute_result"
        }
      ],
      "source": [
        "x==y"
      ]
    },
    {
      "cell_type": "code",
      "execution_count": null,
      "id": "f72789d3-ebf1-42cd-b875-edf3508af850",
      "metadata": {
        "id": "f72789d3-ebf1-42cd-b875-edf3508af850",
        "outputId": "566afb46-611a-41c3-e03c-7eaf2b7a2434"
      },
      "outputs": [
        {
          "data": {
            "text/plain": [
              "True"
            ]
          },
          "execution_count": 128,
          "metadata": {},
          "output_type": "execute_result"
        }
      ],
      "source": [
        "list_1=[10,20]\n",
        "list_2=[10,20]\n",
        "list_1==list_2"
      ]
    },
    {
      "cell_type": "code",
      "execution_count": null,
      "id": "797d0fff-4762-4885-a4f8-9c340306f285",
      "metadata": {
        "id": "797d0fff-4762-4885-a4f8-9c340306f285",
        "outputId": "1c91e1e5-fc20-4cd7-ce04-e69215103ad3"
      },
      "outputs": [
        {
          "data": {
            "text/plain": [
              "False"
            ]
          },
          "execution_count": 130,
          "metadata": {},
          "output_type": "execute_result"
        }
      ],
      "source": [
        "list_1 is list_2"
      ]
    },
    {
      "cell_type": "code",
      "execution_count": null,
      "id": "1c237ea3-48f1-4dd7-bd43-4cd3a59e7579",
      "metadata": {
        "id": "1c237ea3-48f1-4dd7-bd43-4cd3a59e7579",
        "outputId": "5ccdd8c1-234c-44e2-ff07-510141c2f72d"
      },
      "outputs": [
        {
          "data": {
            "text/plain": [
              "4829795520"
            ]
          },
          "execution_count": 132,
          "metadata": {},
          "output_type": "execute_result"
        }
      ],
      "source": [
        "id(list_1)"
      ]
    },
    {
      "cell_type": "code",
      "execution_count": null,
      "id": "267ce53a-baea-4ee0-af93-e22b484a0a55",
      "metadata": {
        "id": "267ce53a-baea-4ee0-af93-e22b484a0a55",
        "outputId": "65483d2c-9e30-4979-8b99-efce3aca595b"
      },
      "outputs": [
        {
          "data": {
            "text/plain": [
              "5082527744"
            ]
          },
          "execution_count": 136,
          "metadata": {},
          "output_type": "execute_result"
        }
      ],
      "source": [
        "id(list_2)"
      ]
    },
    {
      "cell_type": "code",
      "execution_count": null,
      "id": "aa69d7e5-da4b-4b82-aece-8bd639324be7",
      "metadata": {
        "id": "aa69d7e5-da4b-4b82-aece-8bd639324be7",
        "outputId": "af036cee-f635-48db-de40-6e315477642b"
      },
      "outputs": [
        {
          "data": {
            "text/plain": [
              "512"
            ]
          },
          "execution_count": 138,
          "metadata": {},
          "output_type": "execute_result"
        }
      ],
      "source": [
        "2**3**2"
      ]
    },
    {
      "cell_type": "code",
      "execution_count": null,
      "id": "32a2a9bd-6e3d-4751-956f-8c23ee018d09",
      "metadata": {
        "id": "32a2a9bd-6e3d-4751-956f-8c23ee018d09",
        "outputId": "b2ac697f-4af3-4d79-9803-3df6f95ce8be"
      },
      "outputs": [
        {
          "ename": "SyntaxError",
          "evalue": "invalid syntax (2539953819.py, line 2)",
          "output_type": "error",
          "traceback": [
            "\u001b[0;36m  Cell \u001b[0;32mIn[144], line 2\u001b[0;36m\u001b[0m\n\u001b[0;31m    x = y + = 2\u001b[0m\n\u001b[0m            ^\u001b[0m\n\u001b[0;31mSyntaxError\u001b[0m\u001b[0;31m:\u001b[0m invalid syntax\n"
          ]
        }
      ],
      "source": [
        "y = 10\n",
        "x = y + = 2\n",
        "print(x)"
      ]
    },
    {
      "cell_type": "code",
      "execution_count": null,
      "id": "9d98cbf4-317f-4349-916a-1d91f76a7796",
      "metadata": {
        "id": "9d98cbf4-317f-4349-916a-1d91f76a7796",
        "outputId": "bb17f702-2771-41d7-ffe5-fcf7e4b20507"
      },
      "outputs": [
        {
          "data": {
            "text/plain": [
              "216"
            ]
          },
          "execution_count": 146,
          "metadata": {},
          "output_type": "execute_result"
        }
      ],
      "source": [
        "2 * 3 ** 3 * 4"
      ]
    },
    {
      "cell_type": "code",
      "execution_count": null,
      "id": "95e43e92-7421-4341-9b6b-9d581b00169b",
      "metadata": {
        "id": "95e43e92-7421-4341-9b6b-9d581b00169b"
      },
      "outputs": [],
      "source": []
    }
  ],
  "metadata": {
    "kernelspec": {
      "display_name": "Python 3 (ipykernel)",
      "language": "python",
      "name": "python3"
    },
    "language_info": {
      "codemirror_mode": {
        "name": "ipython",
        "version": 3
      },
      "file_extension": ".py",
      "mimetype": "text/x-python",
      "name": "python",
      "nbconvert_exporter": "python",
      "pygments_lexer": "ipython3",
      "version": "3.12.4"
    },
    "colab": {
      "provenance": [],
      "include_colab_link": true
    }
  },
  "nbformat": 4,
  "nbformat_minor": 5
}