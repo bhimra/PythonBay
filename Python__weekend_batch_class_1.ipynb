{
  "nbformat": 4,
  "nbformat_minor": 0,
  "metadata": {
    "colab": {
      "provenance": [],
      "include_colab_link": true
    },
    "kernelspec": {
      "name": "python3",
      "display_name": "Python 3"
    },
    "language_info": {
      "name": "python"
    }
  },
  "cells": [
    {
      "cell_type": "markdown",
      "metadata": {
        "id": "view-in-github",
        "colab_type": "text"
      },
      "source": [
        "<a href=\"https://colab.research.google.com/github/bhimra/PythonBay/blob/master/Python__weekend_batch_class_1.ipynb\" target=\"_parent\"><img src=\"https://colab.research.google.com/assets/colab-badge.svg\" alt=\"Open In Colab\"/></a>"
      ]
    },
    {
      "cell_type": "markdown",
      "source": [
        "#***Day*** 1\n",
        "\n",
        "This is my first day of learning Python"
      ],
      "metadata": {
        "id": "DcfjWGbozG-r"
      }
    },
    {
      "cell_type": "markdown",
      "source": [
        "#Keyword and Identifiers"
      ],
      "metadata": {
        "id": "QQzi5aco4aUd"
      }
    },
    {
      "cell_type": "code",
      "source": [
        "print(\" Hello World \")"
      ],
      "metadata": {
        "colab": {
          "base_uri": "https://localhost:8080/"
        },
        "id": "NNOlPS8Yypu1",
        "outputId": "882794ca-a109-455a-b8dd-acf8768196ca"
      },
      "execution_count": null,
      "outputs": [
        {
          "output_type": "stream",
          "name": "stdout",
          "text": [
            " Hello World \n"
          ]
        }
      ]
    },
    {
      "cell_type": "markdown",
      "source": [
        "#variable"
      ],
      "metadata": {
        "id": "3YcDea6V5cDx"
      }
    },
    {
      "cell_type": "code",
      "source": [
        "my_str = \" Hello World... I am talking !!! \"\n",
        "\n",
        "our_str = \" Hello World... I am talking !!!  \""
      ],
      "metadata": {
        "id": "fN3qDEJU4qKx"
      },
      "execution_count": null,
      "outputs": []
    },
    {
      "cell_type": "code",
      "source": [
        "print(my_str)  ## this is a print function and it will print whatever is stored in the variable \"my_str\""
      ],
      "metadata": {
        "colab": {
          "base_uri": "https://localhost:8080/"
        },
        "id": "B5H1ahO64qHq",
        "outputId": "d40c6fbb-0aff-4f19-8780-bda4dd7ddf29"
      },
      "execution_count": null,
      "outputs": [
        {
          "output_type": "stream",
          "name": "stdout",
          "text": [
            " Hello World... I am talking !!! \n"
          ]
        }
      ]
    },
    {
      "cell_type": "code",
      "source": [
        "my_num = 1000"
      ],
      "metadata": {
        "id": "REKkK-rW4qEi"
      },
      "execution_count": null,
      "outputs": []
    },
    {
      "cell_type": "code",
      "source": [
        "print(my_num)"
      ],
      "metadata": {
        "colab": {
          "base_uri": "https://localhost:8080/"
        },
        "id": "m1jbKHkP7mWJ",
        "outputId": "c6c4c3b0-1191-4a7f-ca98-200a4d0b1b1f"
      },
      "execution_count": null,
      "outputs": [
        {
          "output_type": "stream",
          "name": "stdout",
          "text": [
            "1000\n"
          ]
        }
      ]
    },
    {
      "cell_type": "code",
      "source": [],
      "metadata": {
        "id": "x8EfnE9C7mTP"
      },
      "execution_count": null,
      "outputs": []
    },
    {
      "cell_type": "markdown",
      "source": [
        "#Primitive Data Type\n",
        "\n",
        "1. integer\n",
        "2. float\n",
        "3. string\n",
        "4. boolean"
      ],
      "metadata": {
        "id": "zK6Si9SJ9ifP"
      }
    },
    {
      "cell_type": "code",
      "source": [
        "## int data type\n",
        "\n",
        "my_value = 12 ## your variable name should be meaningful\n",
        "print(my_value)"
      ],
      "metadata": {
        "colab": {
          "base_uri": "https://localhost:8080/"
        },
        "id": "1L17wW_19gnc",
        "outputId": "d08efcb0-4846-4a93-c39d-d0c771ecd8c2"
      },
      "execution_count": null,
      "outputs": [
        {
          "output_type": "stream",
          "name": "stdout",
          "text": [
            "12\n"
          ]
        }
      ]
    },
    {
      "cell_type": "code",
      "source": [
        "## float data type\n",
        "\n",
        "my_num = 12.532\n",
        "print(my_num)"
      ],
      "metadata": {
        "colab": {
          "base_uri": "https://localhost:8080/"
        },
        "id": "dyWW6-AS7mQZ",
        "outputId": "c7c22a90-9631-458a-b4a7-ce3a4dcaf92f"
      },
      "execution_count": null,
      "outputs": [
        {
          "output_type": "stream",
          "name": "stdout",
          "text": [
            "12.532\n"
          ]
        }
      ]
    },
    {
      "cell_type": "code",
      "source": [
        "## string\n",
        "\n",
        "my_str = 'hello'\n",
        "print(my_str)"
      ],
      "metadata": {
        "colab": {
          "base_uri": "https://localhost:8080/"
        },
        "id": "MhfdWxkp7mNx",
        "outputId": "4db28097-5758-4df4-f502-47e5e8f7b258"
      },
      "execution_count": null,
      "outputs": [
        {
          "output_type": "stream",
          "name": "stdout",
          "text": [
            "hello\n"
          ]
        }
      ]
    },
    {
      "cell_type": "code",
      "source": [
        "## boolean can take either True or False\n",
        "\n",
        "my_bool = True\n",
        "print(my_bool)"
      ],
      "metadata": {
        "colab": {
          "base_uri": "https://localhost:8080/"
        },
        "id": "vcZObL9I7mK9",
        "outputId": "10a6cfc1-f52e-4def-83f1-44d67fb7ecfa"
      },
      "execution_count": null,
      "outputs": [
        {
          "output_type": "stream",
          "name": "stdout",
          "text": [
            "True\n"
          ]
        }
      ]
    },
    {
      "cell_type": "code",
      "source": [
        "my_bool1 = False\n",
        "print(my_bool1)"
      ],
      "metadata": {
        "colab": {
          "base_uri": "https://localhost:8080/"
        },
        "id": "mmceeGvK__9R",
        "outputId": "8f54af36-306a-4b8d-821a-e53b4467b96b"
      },
      "execution_count": null,
      "outputs": [
        {
          "output_type": "stream",
          "name": "stdout",
          "text": [
            "False\n"
          ]
        }
      ]
    },
    {
      "cell_type": "code",
      "source": [
        "type(my_num) ## to know the datatype of a variable we use type()"
      ],
      "metadata": {
        "colab": {
          "base_uri": "https://localhost:8080/"
        },
        "id": "lR5qWDjBBneO",
        "outputId": "6a25b2e1-a2eb-40f9-caba-c637c6b57ef6"
      },
      "execution_count": null,
      "outputs": [
        {
          "output_type": "execute_result",
          "data": {
            "text/plain": [
              "float"
            ]
          },
          "metadata": {},
          "execution_count": 11
        }
      ]
    },
    {
      "cell_type": "code",
      "source": [
        "type(my_bool1)"
      ],
      "metadata": {
        "colab": {
          "base_uri": "https://localhost:8080/"
        },
        "id": "Pc2IxYnMBnaU",
        "outputId": "329a8182-7b2d-4372-a3e7-7625d79a2ae9"
      },
      "execution_count": null,
      "outputs": [
        {
          "output_type": "execute_result",
          "data": {
            "text/plain": [
              "bool"
            ]
          },
          "metadata": {},
          "execution_count": 12
        }
      ]
    },
    {
      "cell_type": "code",
      "source": [
        "type(my_str)"
      ],
      "metadata": {
        "colab": {
          "base_uri": "https://localhost:8080/"
        },
        "id": "J8Ih3i6RBnTj",
        "outputId": "88134b15-9137-493a-8733-9ddc6086e95d"
      },
      "execution_count": null,
      "outputs": [
        {
          "output_type": "execute_result",
          "data": {
            "text/plain": [
              "str"
            ]
          },
          "metadata": {},
          "execution_count": 13
        }
      ]
    },
    {
      "cell_type": "markdown",
      "source": [
        "#Non Primitive Data Type\n",
        "1. List-- []\n",
        "2. Tuple-- ()\n",
        "3. Set\n",
        "4. Dictionary--{}"
      ],
      "metadata": {
        "id": "JTDwGnD4JCJi"
      }
    },
    {
      "cell_type": "code",
      "source": [
        "my_name = [1,\"tarun\",5,8.9]\n",
        "## list can store any data type as element"
      ],
      "metadata": {
        "id": "YbjYx8UgAnbJ"
      },
      "execution_count": null,
      "outputs": []
    },
    {
      "cell_type": "code",
      "source": [
        "type(my_name)"
      ],
      "metadata": {
        "colab": {
          "base_uri": "https://localhost:8080/"
        },
        "id": "LaZTOPUHJBg8",
        "outputId": "ed52e729-7bb9-43a9-eb94-a7776e6bdf41"
      },
      "execution_count": null,
      "outputs": [
        {
          "output_type": "execute_result",
          "data": {
            "text/plain": [
              "list"
            ]
          },
          "metadata": {},
          "execution_count": 15
        }
      ]
    },
    {
      "cell_type": "code",
      "source": [
        "## a list can have any data type either primitive or non-primitive\n",
        "\n",
        "my_list = [1,2,4.56, \"hello\", [1,\"tarun\",5,8.9]]\n",
        "my_list"
      ],
      "metadata": {
        "colab": {
          "base_uri": "https://localhost:8080/"
        },
        "id": "cMeLo8H2JBfn",
        "outputId": "7f65e490-3b33-4438-e2d0-66c6d5f3568d"
      },
      "execution_count": null,
      "outputs": [
        {
          "output_type": "execute_result",
          "data": {
            "text/plain": [
              "[1, 2, 4.56, 'hello', [1, 'tarun', 5, 8.9]]"
            ]
          },
          "metadata": {},
          "execution_count": 16
        }
      ]
    },
    {
      "cell_type": "code",
      "source": [
        "type(my_list)"
      ],
      "metadata": {
        "colab": {
          "base_uri": "https://localhost:8080/"
        },
        "id": "eas66JopJBeT",
        "outputId": "359d423e-78a2-4ea7-ab58-606ed3a87cb9"
      },
      "execution_count": null,
      "outputs": [
        {
          "output_type": "execute_result",
          "data": {
            "text/plain": [
              "list"
            ]
          },
          "metadata": {},
          "execution_count": 17
        }
      ]
    },
    {
      "cell_type": "code",
      "source": [
        "my_list1 = [1,2,4.56,'hello',[1,'tarun',5,8.9], True , (2,3)]\n",
        "my_list1"
      ],
      "metadata": {
        "colab": {
          "base_uri": "https://localhost:8080/"
        },
        "id": "oQpwNEe6JBcj",
        "outputId": "a8f2d33a-4dd1-4a02-ed2a-0196749c0f03"
      },
      "execution_count": null,
      "outputs": [
        {
          "output_type": "execute_result",
          "data": {
            "text/plain": [
              "[1, 2, 4.56, 'hello', [1, 'tarun', 5, 8.9], True, (2, 3)]"
            ]
          },
          "metadata": {},
          "execution_count": 18
        }
      ]
    },
    {
      "cell_type": "code",
      "source": [
        "emp_list = []"
      ],
      "metadata": {
        "id": "IRk-kJSMJBbb"
      },
      "execution_count": null,
      "outputs": []
    },
    {
      "cell_type": "code",
      "source": [
        "my_list = [1,2,3]"
      ],
      "metadata": {
        "id": "ZPl7ziHKMcOV"
      },
      "execution_count": null,
      "outputs": []
    },
    {
      "cell_type": "code",
      "source": [
        "my_list2 = [1,2,5.5,my_list] ## this is known nested lists"
      ],
      "metadata": {
        "id": "qpLPXI8kJBZn"
      },
      "execution_count": null,
      "outputs": []
    },
    {
      "cell_type": "code",
      "source": [
        "my_list2 ## has 4 elements\n",
        "## has elements from 3 diff datatypes"
      ],
      "metadata": {
        "colab": {
          "base_uri": "https://localhost:8080/"
        },
        "id": "Dx1DGI6IJBYm",
        "outputId": "e6ce5b23-90c7-43eb-f1cf-431675d32ae2"
      },
      "execution_count": null,
      "outputs": [
        {
          "output_type": "execute_result",
          "data": {
            "text/plain": [
              "[1, 2, 5.5, [1, 2, 3]]"
            ]
          },
          "metadata": {},
          "execution_count": 22
        }
      ]
    },
    {
      "cell_type": "code",
      "source": [
        "\"\"\"\n",
        "indexing :\n",
        "\n",
        "-- is a method of accessing an element in a list based on their index position.\n",
        "-- Indexing is of two type: forward(left to right) and backward(right to left)\n",
        "-- forward indexing starts from 0 and backward indexing starts from -1\n",
        "\n",
        "\"\"\""
      ],
      "metadata": {
        "colab": {
          "base_uri": "https://localhost:8080/",
          "height": 53
        },
        "id": "pNL21vyMJBWj",
        "outputId": "41d9b642-5dc0-475a-d7a5-7617589299d4"
      },
      "execution_count": null,
      "outputs": [
        {
          "output_type": "execute_result",
          "data": {
            "text/plain": [
              "'\\nindexing :\\n\\n-- is a method of accessing an element in a list based on their index position.\\n-- Indexing is of two type: forward(left to right) and backward(right to left)\\n-- forward indexing starts from 0 and backward indexing starts from -1\\n\\n'"
            ],
            "application/vnd.google.colaboratory.intrinsic+json": {
              "type": "string"
            }
          },
          "metadata": {},
          "execution_count": 23
        }
      ]
    },
    {
      "cell_type": "code",
      "source": [
        "print(my_list1)\n"
      ],
      "metadata": {
        "colab": {
          "base_uri": "https://localhost:8080/"
        },
        "id": "tMO_57moJBVd",
        "outputId": "788874a3-36a4-4c2a-f687-bbaef9948289"
      },
      "execution_count": null,
      "outputs": [
        {
          "output_type": "stream",
          "name": "stdout",
          "text": [
            "[1, 2, 4.56, 'hello', [1, 'tarun', 5, 8.9], True, (2, 3)]\n"
          ]
        }
      ]
    },
    {
      "cell_type": "code",
      "source": [
        "##forward indexing\n"
      ],
      "metadata": {
        "id": "c6RiVwrtJBT4"
      },
      "execution_count": null,
      "outputs": []
    },
    {
      "cell_type": "code",
      "source": [
        "my_list1[2]"
      ],
      "metadata": {
        "colab": {
          "base_uri": "https://localhost:8080/"
        },
        "id": "mdGcpFcDJBRR",
        "outputId": "51fae141-8189-43a6-fafb-38cea1d685a8"
      },
      "execution_count": null,
      "outputs": [
        {
          "output_type": "execute_result",
          "data": {
            "text/plain": [
              "4.56"
            ]
          },
          "metadata": {},
          "execution_count": 26
        }
      ]
    },
    {
      "cell_type": "code",
      "source": [
        "my_list1[4].index('tarun') ## to get the index for an element"
      ],
      "metadata": {
        "colab": {
          "base_uri": "https://localhost:8080/"
        },
        "id": "RIfS3m2YJBPg",
        "outputId": "e92a8520-f211-4bdb-aec6-9c92935a26b4"
      },
      "execution_count": null,
      "outputs": [
        {
          "output_type": "execute_result",
          "data": {
            "text/plain": [
              "1"
            ]
          },
          "metadata": {},
          "execution_count": 27
        }
      ]
    },
    {
      "cell_type": "code",
      "source": [
        "##get the index for \"hello\"\n",
        "\n",
        "my_list1.index('hello')"
      ],
      "metadata": {
        "colab": {
          "base_uri": "https://localhost:8080/"
        },
        "id": "GMmn4F6OJBOL",
        "outputId": "6d25c232-080d-4b13-80cd-03355b322ed9"
      },
      "execution_count": null,
      "outputs": [
        {
          "output_type": "execute_result",
          "data": {
            "text/plain": [
              "3"
            ]
          },
          "metadata": {},
          "execution_count": 28
        }
      ]
    },
    {
      "cell_type": "code",
      "source": [
        "my_list1[3]"
      ],
      "metadata": {
        "colab": {
          "base_uri": "https://localhost:8080/",
          "height": 35
        },
        "id": "uFfkYd5iSjed",
        "outputId": "3191b0e4-63eb-4ff8-9298-6b4c77040037"
      },
      "execution_count": null,
      "outputs": [
        {
          "output_type": "execute_result",
          "data": {
            "text/plain": [
              "'hello'"
            ],
            "application/vnd.google.colaboratory.intrinsic+json": {
              "type": "string"
            }
          },
          "metadata": {},
          "execution_count": 29
        }
      ]
    },
    {
      "cell_type": "code",
      "source": [
        "my_list1[4].index('tarun')"
      ],
      "metadata": {
        "colab": {
          "base_uri": "https://localhost:8080/"
        },
        "id": "mytolDvOSlvf",
        "outputId": "8ecfc138-43b1-44d3-bb8a-82640be9f189"
      },
      "execution_count": null,
      "outputs": [
        {
          "output_type": "execute_result",
          "data": {
            "text/plain": [
              "1"
            ]
          },
          "metadata": {},
          "execution_count": 30
        }
      ]
    },
    {
      "cell_type": "code",
      "source": [
        "my_list1[4][1]"
      ],
      "metadata": {
        "colab": {
          "base_uri": "https://localhost:8080/",
          "height": 35
        },
        "id": "q9Gn7Z8USvyt",
        "outputId": "ac4da0dd-0fe0-4c1d-ddca-12b9a754026a"
      },
      "execution_count": null,
      "outputs": [
        {
          "output_type": "execute_result",
          "data": {
            "text/plain": [
              "'tarun'"
            ],
            "application/vnd.google.colaboratory.intrinsic+json": {
              "type": "string"
            }
          },
          "metadata": {},
          "execution_count": 31
        }
      ]
    },
    {
      "cell_type": "code",
      "source": [
        "nested_list=[10,20,30,['apple','orange'],90,100,10000,'bye','80','200']\n",
        "\n",
        "print(nested_list)"
      ],
      "metadata": {
        "id": "PNpx36mRS5YL",
        "colab": {
          "base_uri": "https://localhost:8080/"
        },
        "outputId": "3d301775-1e6c-433e-b10a-6ceb967c00aa"
      },
      "execution_count": null,
      "outputs": [
        {
          "output_type": "stream",
          "name": "stdout",
          "text": [
            "[10, 20, 30, ['apple', 'orange'], 90, 100, 10000, 'bye', '80', '200']\n"
          ]
        }
      ]
    },
    {
      "cell_type": "code",
      "source": [
        "list_12 = [12.5,30.8,78,nested_list,100]\n",
        "\n"
      ],
      "metadata": {
        "id": "bz9-gq32v0dV"
      },
      "execution_count": null,
      "outputs": []
    },
    {
      "cell_type": "code",
      "source": [
        "# extract 30 from the list_12\n",
        "list_12[3][2]"
      ],
      "metadata": {
        "colab": {
          "base_uri": "https://localhost:8080/"
        },
        "id": "GEg5qnsawAJi",
        "outputId": "16e59fde-c649-4f2a-cb4f-603152edcba7"
      },
      "execution_count": null,
      "outputs": [
        {
          "output_type": "execute_result",
          "data": {
            "text/plain": [
              "30"
            ]
          },
          "metadata": {},
          "execution_count": 37
        }
      ]
    },
    {
      "cell_type": "code",
      "source": [
        "## extract \"orange\" from list_12\n",
        "list_12[3][3][1]"
      ],
      "metadata": {
        "colab": {
          "base_uri": "https://localhost:8080/",
          "height": 35
        },
        "id": "qNVUxzMtwWoM",
        "outputId": "a1d66215-8bdb-4dbb-b746-edf5f281bd60"
      },
      "execution_count": null,
      "outputs": [
        {
          "output_type": "execute_result",
          "data": {
            "text/plain": [
              "'orange'"
            ],
            "application/vnd.google.colaboratory.intrinsic+json": {
              "type": "string"
            }
          },
          "metadata": {},
          "execution_count": 66
        }
      ]
    },
    {
      "cell_type": "code",
      "source": [
        "# extratc all the items from 5th index to last element in nested_list\n",
        "nested_list[5:]"
      ],
      "metadata": {
        "colab": {
          "base_uri": "https://localhost:8080/"
        },
        "id": "a2y91HyWytrh",
        "outputId": "8cec1ba8-a7cb-477e-c43d-337bf8900ab2"
      },
      "execution_count": null,
      "outputs": [
        {
          "output_type": "execute_result",
          "data": {
            "text/plain": [
              "[100, 10000, 'bye', '80', '200']"
            ]
          },
          "metadata": {},
          "execution_count": 46
        }
      ]
    },
    {
      "cell_type": "code",
      "source": [
        "nested_list[5:9]## note: here the index after colon is not inclusive"
      ],
      "metadata": {
        "id": "LngcRC1zzzlB"
      },
      "execution_count": null,
      "outputs": []
    },
    {
      "cell_type": "code",
      "source": [
        "## extract the items from 2nd index till 7th index\n",
        "nested_list[2:8]"
      ],
      "metadata": {
        "colab": {
          "base_uri": "https://localhost:8080/"
        },
        "id": "QU9THIB90czx",
        "outputId": "139268e7-120c-46f7-eb82-8a55a98cc3d3"
      },
      "execution_count": null,
      "outputs": [
        {
          "output_type": "execute_result",
          "data": {
            "text/plain": [
              "[30, ['apple', 'orange'], 90, 100, 10000, 'bye']"
            ]
          },
          "metadata": {},
          "execution_count": 48
        }
      ]
    },
    {
      "cell_type": "code",
      "source": [
        "##extract from 1st index till 5th index\n",
        "nested_list[1:6]"
      ],
      "metadata": {
        "colab": {
          "base_uri": "https://localhost:8080/"
        },
        "id": "LyUUjpVb0cxK",
        "outputId": "3813cc37-af3d-423e-e543-9a843ff9bebb"
      },
      "execution_count": null,
      "outputs": [
        {
          "output_type": "execute_result",
          "data": {
            "text/plain": [
              "[20, 30, ['apple', 'orange'], 90, 100]"
            ]
          },
          "metadata": {},
          "execution_count": 49
        }
      ]
    },
    {
      "cell_type": "code",
      "source": [
        "## extraction formula : list_name[ start_index : finish_index + 1 ]"
      ],
      "metadata": {
        "id": "_8GX2v1G0cuS"
      },
      "execution_count": null,
      "outputs": []
    },
    {
      "cell_type": "code",
      "source": [
        "### extract items by jumping certain elements\n",
        "## list_name[ start_index : finish_index + 1 , no. of items from the current item that you want ]\n",
        "\n",
        "nested_list=[10,20,30,['apple','orange'],90,100,10000,'bye','80','200',800,50,20000,8,50000]\n",
        "\n",
        "nested_list[1:10:2]"
      ],
      "metadata": {
        "colab": {
          "base_uri": "https://localhost:8080/"
        },
        "id": "2Xl6jAab0crc",
        "outputId": "627bb0f0-3801-4155-db84-a87b839fa8f4"
      },
      "execution_count": null,
      "outputs": [
        {
          "output_type": "execute_result",
          "data": {
            "text/plain": [
              "[20, ['apple', 'orange'], 100, 'bye', '200']"
            ]
          },
          "metadata": {},
          "execution_count": 67
        }
      ]
    },
    {
      "cell_type": "code",
      "source": [
        "## output = [20,100,200]\n",
        "nested_list[1::4]"
      ],
      "metadata": {
        "colab": {
          "base_uri": "https://localhost:8080/"
        },
        "id": "FPsnGaQQ0coT",
        "outputId": "0a7ba60b-7614-431b-bee2-8805d44c3785"
      },
      "execution_count": null,
      "outputs": [
        {
          "output_type": "execute_result",
          "data": {
            "text/plain": [
              "[20, 100, '200']"
            ]
          },
          "metadata": {},
          "execution_count": 52
        }
      ]
    },
    {
      "cell_type": "code",
      "source": [
        "# output = [['apple','orange'],10000,'200']\n",
        "\n",
        "nested_list[3::3]"
      ],
      "metadata": {
        "colab": {
          "base_uri": "https://localhost:8080/"
        },
        "id": "7hFXt4aV0clM",
        "outputId": "dbec708e-3cad-4604-b322-a6f94b07d1fb"
      },
      "execution_count": null,
      "outputs": [
        {
          "output_type": "execute_result",
          "data": {
            "text/plain": [
              "[['apple', 'orange'], 10000, '200', 20000]"
            ]
          },
          "metadata": {},
          "execution_count": 58
        }
      ]
    },
    {
      "cell_type": "code",
      "source": [
        "nested_list[3:3:3]"
      ],
      "metadata": {
        "colab": {
          "base_uri": "https://localhost:8080/"
        },
        "id": "MV_d_Uz16QrO",
        "outputId": "b18c667a-37e8-476b-a80a-963c08e8ac2f"
      },
      "execution_count": null,
      "outputs": [
        {
          "output_type": "execute_result",
          "data": {
            "text/plain": [
              "[]"
            ]
          },
          "metadata": {},
          "execution_count": 55
        }
      ]
    },
    {
      "cell_type": "code",
      "source": [
        "nested_list[3:10:3]"
      ],
      "metadata": {
        "colab": {
          "base_uri": "https://localhost:8080/"
        },
        "id": "3x0yocad6akw",
        "outputId": "f8fc0c91-9500-4fc2-a24b-3465fe5b5097"
      },
      "execution_count": null,
      "outputs": [
        {
          "output_type": "execute_result",
          "data": {
            "text/plain": [
              "[['apple', 'orange'], 10000, '200']"
            ]
          },
          "metadata": {},
          "execution_count": 61
        }
      ]
    },
    {
      "cell_type": "code",
      "source": [
        "nested_list[3:10:3]"
      ],
      "metadata": {
        "colab": {
          "base_uri": "https://localhost:8080/"
        },
        "id": "Iy280Dgr6p5g",
        "outputId": "00d1d1d3-02fe-4f8d-a42a-7ee243984875"
      },
      "execution_count": null,
      "outputs": [
        {
          "output_type": "execute_result",
          "data": {
            "text/plain": [
              "[['apple', 'orange'], 10000, '200']"
            ]
          },
          "metadata": {},
          "execution_count": 64
        }
      ]
    },
    {
      "cell_type": "code",
      "source": [
        "### backward indexing\n",
        "\n",
        "nested_list[-1]"
      ],
      "metadata": {
        "colab": {
          "base_uri": "https://localhost:8080/"
        },
        "id": "kjmfXK5d7QnE",
        "outputId": "fd20a64b-5642-4627-ed98-2ec49d36104c"
      },
      "execution_count": null,
      "outputs": [
        {
          "output_type": "execute_result",
          "data": {
            "text/plain": [
              "50000"
            ]
          },
          "metadata": {},
          "execution_count": 69
        }
      ]
    },
    {
      "cell_type": "code",
      "source": [
        "nested_list[-3]"
      ],
      "metadata": {
        "colab": {
          "base_uri": "https://localhost:8080/"
        },
        "id": "GjyOuIq_8yqB",
        "outputId": "d6a4bd47-b117-4337-e5f6-d9840a6855b8"
      },
      "execution_count": null,
      "outputs": [
        {
          "output_type": "execute_result",
          "data": {
            "text/plain": [
              "20000"
            ]
          },
          "metadata": {},
          "execution_count": 70
        }
      ]
    },
    {
      "cell_type": "code",
      "source": [
        "#get the child list from 6th last element till last element\n",
        "nested_list[-6:]"
      ],
      "metadata": {
        "colab": {
          "base_uri": "https://localhost:8080/"
        },
        "id": "ARzwlsd888oH",
        "outputId": "3ddaa1a4-aa99-48ec-d302-7d77a04f560f"
      },
      "execution_count": null,
      "outputs": [
        {
          "output_type": "execute_result",
          "data": {
            "text/plain": [
              "['200', 800, 50, 20000, 80000, 50000]"
            ]
          },
          "metadata": {},
          "execution_count": 75
        }
      ]
    },
    {
      "cell_type": "code",
      "source": [
        "#get the child list from 8th last element till 3rd last index\n",
        "nested_list[-8:-2]"
      ],
      "metadata": {
        "colab": {
          "base_uri": "https://localhost:8080/"
        },
        "id": "J2qrBSHr9PEa",
        "outputId": "0f56be8d-df97-4eca-a35e-50d9a3d195a4"
      },
      "execution_count": null,
      "outputs": [
        {
          "output_type": "execute_result",
          "data": {
            "text/plain": [
              "['bye', '80', '200', 800, 50, 20000]"
            ]
          },
          "metadata": {},
          "execution_count": 76
        }
      ]
    },
    {
      "cell_type": "code",
      "source": [
        "nested_list[-8]"
      ],
      "metadata": {
        "colab": {
          "base_uri": "https://localhost:8080/",
          "height": 35
        },
        "id": "i5vUvLl5-1Py",
        "outputId": "75ce53cf-7a04-4467-ab05-c7472bd86253"
      },
      "execution_count": null,
      "outputs": [
        {
          "output_type": "execute_result",
          "data": {
            "text/plain": [
              "'bye'"
            ],
            "application/vnd.google.colaboratory.intrinsic+json": {
              "type": "string"
            }
          },
          "metadata": {},
          "execution_count": 77
        }
      ]
    },
    {
      "cell_type": "code",
      "source": [
        "nested_list[-3]"
      ],
      "metadata": {
        "colab": {
          "base_uri": "https://localhost:8080/"
        },
        "id": "z4gYlhfb-4oZ",
        "outputId": "267d1ff6-b39f-4dc2-b742-3ce2966be5ce"
      },
      "execution_count": null,
      "outputs": [
        {
          "output_type": "execute_result",
          "data": {
            "text/plain": [
              "20000"
            ]
          },
          "metadata": {},
          "execution_count": 78
        }
      ]
    },
    {
      "cell_type": "code",
      "source": [
        "#### mmethods in a list\n",
        "my_list = ['tarun','anurag','pranav','sri']\n",
        "\n"
      ],
      "metadata": {
        "id": "VRg1251U-61B"
      },
      "execution_count": null,
      "outputs": []
    },
    {
      "cell_type": "code",
      "source": [
        "#add a new item in the list\n",
        "my_list.append('priti')"
      ],
      "metadata": {
        "id": "zFUJw8TT_32Q"
      },
      "execution_count": null,
      "outputs": []
    },
    {
      "cell_type": "code",
      "source": [
        "my_list"
      ],
      "metadata": {
        "colab": {
          "base_uri": "https://localhost:8080/"
        },
        "id": "GaSUgFz8_-dJ",
        "outputId": "2b1773f4-3858-470c-a1a4-f5384164a4c9"
      },
      "execution_count": null,
      "outputs": [
        {
          "output_type": "execute_result",
          "data": {
            "text/plain": [
              "['tarun', 'anurag', 'pranav', 'sri', 'priti']"
            ]
          },
          "metadata": {},
          "execution_count": 83
        }
      ]
    },
    {
      "cell_type": "code",
      "source": [
        "your_list = [10,20,30,50,60,70]"
      ],
      "metadata": {
        "id": "60nG6NbG__qz"
      },
      "execution_count": null,
      "outputs": []
    },
    {
      "cell_type": "code",
      "source": [
        "my_list.append(your_list) ## your_list will be added as a separate item"
      ],
      "metadata": {
        "id": "HUTplcQzANIn"
      },
      "execution_count": null,
      "outputs": []
    },
    {
      "cell_type": "code",
      "source": [
        "my_list"
      ],
      "metadata": {
        "colab": {
          "base_uri": "https://localhost:8080/"
        },
        "id": "JDbsyudRAYaZ",
        "outputId": "4fbc62da-e9bc-4d2b-eb3f-2c249a4340b0"
      },
      "execution_count": null,
      "outputs": [
        {
          "output_type": "execute_result",
          "data": {
            "text/plain": [
              "['tarun', 'anurag', 'pranav', 'sri', 'priti', [10, 20, 30]]"
            ]
          },
          "metadata": {},
          "execution_count": 86
        }
      ]
    },
    {
      "cell_type": "code",
      "source": [
        "## using extend method\n",
        "my_list.extend(your_list) ## each item of your_list will be added as separate item\n",
        "my_list"
      ],
      "metadata": {
        "colab": {
          "base_uri": "https://localhost:8080/"
        },
        "id": "m1p-5dXbAdl0",
        "outputId": "0ac3ce34-b188-417d-fbc8-fc07f7dad286"
      },
      "execution_count": null,
      "outputs": [
        {
          "output_type": "execute_result",
          "data": {
            "text/plain": [
              "['tarun',\n",
              " 'anurag',\n",
              " 'pranav',\n",
              " 'sri',\n",
              " 'priti',\n",
              " 10,\n",
              " 20,\n",
              " 30,\n",
              " 10,\n",
              " 20,\n",
              " 30,\n",
              " 50,\n",
              " 60,\n",
              " 70]"
            ]
          },
          "metadata": {},
          "execution_count": 92
        }
      ]
    },
    {
      "cell_type": "code",
      "source": [
        "my_list.insert(2,'hello')"
      ],
      "metadata": {
        "id": "9qRn7zO_ApXx"
      },
      "execution_count": null,
      "outputs": []
    },
    {
      "cell_type": "code",
      "source": [
        "my_list"
      ],
      "metadata": {
        "colab": {
          "base_uri": "https://localhost:8080/"
        },
        "id": "NAeRLEQFCCGE",
        "outputId": "11fcfd8d-3452-4b2c-e62d-cab2fd79cc4c"
      },
      "execution_count": null,
      "outputs": [
        {
          "output_type": "execute_result",
          "data": {
            "text/plain": [
              "['tarun',\n",
              " 'anurag',\n",
              " 'hello',\n",
              " 'pranav',\n",
              " 'sri',\n",
              " 'priti',\n",
              " 10,\n",
              " 20,\n",
              " 30,\n",
              " 10,\n",
              " 20,\n",
              " 30,\n",
              " 50,\n",
              " 60,\n",
              " 70]"
            ]
          },
          "metadata": {},
          "execution_count": 94
        }
      ]
    },
    {
      "cell_type": "code",
      "source": [
        "my_list.pop(3)"
      ],
      "metadata": {
        "colab": {
          "base_uri": "https://localhost:8080/",
          "height": 35
        },
        "id": "f-8CnctfCDMd",
        "outputId": "3daf5278-76c4-4678-ea8d-b3c539a043b4"
      },
      "execution_count": null,
      "outputs": [
        {
          "output_type": "execute_result",
          "data": {
            "text/plain": [
              "'pranav'"
            ],
            "application/vnd.google.colaboratory.intrinsic+json": {
              "type": "string"
            }
          },
          "metadata": {},
          "execution_count": 96
        }
      ]
    },
    {
      "cell_type": "code",
      "source": [
        "my_list.remove('hello')"
      ],
      "metadata": {
        "id": "R1Ay5wbNCMvy"
      },
      "execution_count": null,
      "outputs": []
    },
    {
      "cell_type": "code",
      "source": [
        "my_list"
      ],
      "metadata": {
        "colab": {
          "base_uri": "https://localhost:8080/"
        },
        "id": "o-Eus0ZuCZda",
        "outputId": "1345d8e1-8fef-40c4-e816-3b48fbb98606"
      },
      "execution_count": null,
      "outputs": [
        {
          "output_type": "execute_result",
          "data": {
            "text/plain": [
              "['tarun', 'anurag', 'sri', 'priti', 10, 20, 30, 10, 20, 30, 50, 60, 70]"
            ]
          },
          "metadata": {},
          "execution_count": 98
        }
      ]
    },
    {
      "cell_type": "code",
      "source": [
        "marks = [40,30,80,50,90,10,95,93,62,23]"
      ],
      "metadata": {
        "id": "RnkJ51IZCahl"
      },
      "execution_count": null,
      "outputs": []
    },
    {
      "cell_type": "code",
      "source": [
        "marks.sort()"
      ],
      "metadata": {
        "id": "JjodItspCejj"
      },
      "execution_count": null,
      "outputs": []
    },
    {
      "cell_type": "code",
      "source": [
        "marks"
      ],
      "metadata": {
        "colab": {
          "base_uri": "https://localhost:8080/"
        },
        "id": "Yrn6hQs6Cegs",
        "outputId": "b7ffa2f8-bf27-4687-be2c-9bf5efcf73b3"
      },
      "execution_count": null,
      "outputs": [
        {
          "output_type": "execute_result",
          "data": {
            "text/plain": [
              "[10, 23, 30, 40, 50, 62, 80, 90, 93, 95]"
            ]
          },
          "metadata": {},
          "execution_count": 101
        }
      ]
    },
    {
      "cell_type": "code",
      "source": [
        "marks.sort(reverse = True)"
      ],
      "metadata": {
        "id": "lylpm8FcCed4"
      },
      "execution_count": null,
      "outputs": []
    },
    {
      "cell_type": "code",
      "source": [
        "marks"
      ],
      "metadata": {
        "colab": {
          "base_uri": "https://localhost:8080/"
        },
        "id": "DWN1ou27CebO",
        "outputId": "4f77a044-31fa-446b-fe8d-21bb37367871"
      },
      "execution_count": null,
      "outputs": [
        {
          "output_type": "execute_result",
          "data": {
            "text/plain": [
              "[95, 93, 90, 80, 62, 50, 40, 30, 23, 10]"
            ]
          },
          "metadata": {},
          "execution_count": 103
        }
      ]
    },
    {
      "cell_type": "code",
      "source": [
        "stu_marks_desc = marks.copy()"
      ],
      "metadata": {
        "id": "swH9nbJGCeYX"
      },
      "execution_count": null,
      "outputs": []
    },
    {
      "cell_type": "code",
      "source": [
        "stu_marks_desc"
      ],
      "metadata": {
        "colab": {
          "base_uri": "https://localhost:8080/"
        },
        "id": "iYHEg5wOCeVf",
        "outputId": "c3f94746-04d1-4a91-c80f-dd3dfd10ff23"
      },
      "execution_count": null,
      "outputs": [
        {
          "output_type": "execute_result",
          "data": {
            "text/plain": [
              "[95, 93, 90, 80, 62, 50, 40, 30, 23, 10]"
            ]
          },
          "metadata": {},
          "execution_count": 108
        }
      ]
    },
    {
      "cell_type": "code",
      "source": [
        "stu_names = ['tarun','anurag','pranav','sri']"
      ],
      "metadata": {
        "id": "JUIRA7uZCeSu"
      },
      "execution_count": null,
      "outputs": []
    },
    {
      "cell_type": "code",
      "source": [
        "stu_names.reverse()"
      ],
      "metadata": {
        "id": "iRPqr3_ODNmG"
      },
      "execution_count": null,
      "outputs": []
    },
    {
      "cell_type": "code",
      "source": [
        "stu_names"
      ],
      "metadata": {
        "colab": {
          "base_uri": "https://localhost:8080/"
        },
        "id": "kzFSGilSDR7M",
        "outputId": "cc209e05-4d0f-417d-d057-56985e8f01ce"
      },
      "execution_count": null,
      "outputs": [
        {
          "output_type": "execute_result",
          "data": {
            "text/plain": [
              "['sri', 'pranav', 'anurag', 'tarun']"
            ]
          },
          "metadata": {},
          "execution_count": 131
        }
      ]
    },
    {
      "cell_type": "code",
      "source": [],
      "metadata": {
        "id": "GLwhIt8kDTWT"
      },
      "execution_count": null,
      "outputs": []
    },
    {
      "cell_type": "code",
      "source": [
        "stu_names"
      ],
      "metadata": {
        "colab": {
          "base_uri": "https://localhost:8080/"
        },
        "id": "OwchEVpDDbmT",
        "outputId": "9948553f-0173-4ac3-9521-b9baceb49f6c"
      },
      "execution_count": null,
      "outputs": [
        {
          "output_type": "execute_result",
          "data": {
            "text/plain": [
              "['sri', 'pranav', 'anurag', 'tarun']"
            ]
          },
          "metadata": {},
          "execution_count": 119
        }
      ]
    },
    {
      "cell_type": "code",
      "source": [
        "## replace the 2nd index with \"himanshu\"\n",
        "stu_names[2] = \"himanshu\"\n",
        "stu_names"
      ],
      "metadata": {
        "colab": {
          "base_uri": "https://localhost:8080/"
        },
        "id": "bKeeRAsJDdrB",
        "outputId": "a34260ad-3468-45cc-a171-24ef815e20a1"
      },
      "execution_count": null,
      "outputs": [
        {
          "output_type": "execute_result",
          "data": {
            "text/plain": [
              "['sri', 'pranav', 'himanshu', 'tarun']"
            ]
          },
          "metadata": {},
          "execution_count": 132
        }
      ]
    },
    {
      "cell_type": "code",
      "source": [
        "stu_marks_desc[6] = 100"
      ],
      "metadata": {
        "id": "gIj1BR52D7G3"
      },
      "execution_count": null,
      "outputs": []
    },
    {
      "cell_type": "code",
      "source": [
        "stu_marks_desc"
      ],
      "metadata": {
        "colab": {
          "base_uri": "https://localhost:8080/"
        },
        "id": "-R8kzQfMD7EA",
        "outputId": "ce8fdfef-a83a-4a13-c294-c9da3eab879a"
      },
      "execution_count": null,
      "outputs": [
        {
          "output_type": "execute_result",
          "data": {
            "text/plain": [
              "[95, 93, 90, 80, 62, 50, 100, 30, 23, 10]"
            ]
          },
          "metadata": {},
          "execution_count": 135
        }
      ]
    },
    {
      "cell_type": "code",
      "source": [
        "##tuple\n",
        "# tuple is a datatype which is stored in a round bracket\n",
        "# supports indexing\n",
        "# it allows multiple datatypes inside it\n",
        "\n",
        "# tuples are immutable whereas lists are mutable"
      ],
      "metadata": {
        "id": "KjGw8-xAD7BI"
      },
      "execution_count": null,
      "outputs": []
    },
    {
      "cell_type": "code",
      "source": [
        "tuple_1 = ()\n",
        "\n",
        "print(type(tuple_1))"
      ],
      "metadata": {
        "colab": {
          "base_uri": "https://localhost:8080/"
        },
        "id": "MlyBbKaRD6-A",
        "outputId": "473f12fe-ad9e-4ece-e827-cbf577c8d135"
      },
      "execution_count": null,
      "outputs": [
        {
          "output_type": "stream",
          "name": "stdout",
          "text": [
            "<class 'tuple'>\n"
          ]
        }
      ]
    },
    {
      "cell_type": "code",
      "source": [
        "tuple_obj = (12,38.9,'himanshu',True,[12,'a',89])\n",
        "tuple_obj"
      ],
      "metadata": {
        "colab": {
          "base_uri": "https://localhost:8080/"
        },
        "id": "UWt1Agm-D666",
        "outputId": "4b259692-67a0-44eb-d856-2131614dbd32"
      },
      "execution_count": null,
      "outputs": [
        {
          "output_type": "execute_result",
          "data": {
            "text/plain": [
              "(12, 38.9, 'himanshu', True, [12, 'a', 89])"
            ]
          },
          "metadata": {},
          "execution_count": 137
        }
      ]
    },
    {
      "cell_type": "code",
      "source": [
        "# output = (38.9,'himanshu',True)\n",
        "tuple_obj[1:4]"
      ],
      "metadata": {
        "colab": {
          "base_uri": "https://localhost:8080/"
        },
        "id": "FAmLhWQ_D63w",
        "outputId": "fa846aa9-a1b0-4c07-898b-66834646898c"
      },
      "execution_count": null,
      "outputs": [
        {
          "output_type": "execute_result",
          "data": {
            "text/plain": [
              "(38.9, 'himanshu', True)"
            ]
          },
          "metadata": {},
          "execution_count": 138
        }
      ]
    },
    {
      "cell_type": "code",
      "source": [
        "tuple_obj[2] = 'pranav' ## this property of tuple is 'immutablity\" unlike lists which are mutable"
      ],
      "metadata": {
        "colab": {
          "base_uri": "https://localhost:8080/",
          "height": 141
        },
        "id": "Wt8ui6r0D60Y",
        "outputId": "a303e11b-1dfe-4abf-827c-c414f4a44767"
      },
      "execution_count": null,
      "outputs": [
        {
          "output_type": "error",
          "ename": "TypeError",
          "evalue": "'tuple' object does not support item assignment",
          "traceback": [
            "\u001b[0;31m---------------------------------------------------------------------------\u001b[0m",
            "\u001b[0;31mTypeError\u001b[0m                                 Traceback (most recent call last)",
            "\u001b[0;32m<ipython-input-141-7537b0f3bd56>\u001b[0m in \u001b[0;36m<cell line: 0>\u001b[0;34m()\u001b[0m\n\u001b[0;32m----> 1\u001b[0;31m \u001b[0mtuple_obj\u001b[0m\u001b[0;34m[\u001b[0m\u001b[0;36m2\u001b[0m\u001b[0;34m]\u001b[0m \u001b[0;34m=\u001b[0m \u001b[0;34m'pranav'\u001b[0m \u001b[0;31m## this property of tuple is 'immutablity\" unlike lists which are mutable\u001b[0m\u001b[0;34m\u001b[0m\u001b[0;34m\u001b[0m\u001b[0m\n\u001b[0m",
            "\u001b[0;31mTypeError\u001b[0m: 'tuple' object does not support item assignment"
          ]
        }
      ]
    },
    {
      "cell_type": "code",
      "source": [
        "\"\"\"\n",
        "what is the difference b/w list and tuple ?\n",
        "\n",
        "1. list is declared in [] whereas tuples in ()\n",
        "2. lists = mutable and tuple = immutable\n",
        "3. tuples are faster than lists\n",
        "\n",
        "\"\"\""
      ],
      "metadata": {
        "id": "5M5aon1nNIZM"
      },
      "execution_count": null,
      "outputs": []
    },
    {
      "cell_type": "code",
      "source": [
        "## dictionary\n",
        "# 1. defined with {}\n",
        "# 2. data inside dictionary is stored in \"key:value\" pair"
      ],
      "metadata": {
        "id": "_28B8oVHNVlw"
      },
      "execution_count": null,
      "outputs": []
    },
    {
      "cell_type": "code",
      "source": [
        "d = { 'name' : 'sri' , 'age' : 20 , 'hobby' : 'book reading', 'drink' : 'tea'}\n"
      ],
      "metadata": {
        "id": "XHzMk99INVjK"
      },
      "execution_count": null,
      "outputs": []
    },
    {
      "cell_type": "code",
      "source": [
        "d['age']"
      ],
      "metadata": {
        "colab": {
          "base_uri": "https://localhost:8080/"
        },
        "id": "DteQbMjiNVgT",
        "outputId": "9bb12713-4287-4b9e-aaf2-f7684ab381d4"
      },
      "execution_count": null,
      "outputs": [
        {
          "output_type": "execute_result",
          "data": {
            "text/plain": [
              "20"
            ]
          },
          "metadata": {},
          "execution_count": 148
        }
      ]
    },
    {
      "cell_type": "code",
      "source": [
        "d.keys()"
      ],
      "metadata": {
        "colab": {
          "base_uri": "https://localhost:8080/"
        },
        "id": "1m5QuT1SNVdg",
        "outputId": "2fb1c615-88e7-429a-9aa5-d541a3dbe856"
      },
      "execution_count": null,
      "outputs": [
        {
          "output_type": "execute_result",
          "data": {
            "text/plain": [
              "dict_keys(['name', 'age', 'hobby', 'drink'])"
            ]
          },
          "metadata": {},
          "execution_count": 149
        }
      ]
    },
    {
      "cell_type": "code",
      "source": [
        "d.values()"
      ],
      "metadata": {
        "colab": {
          "base_uri": "https://localhost:8080/"
        },
        "id": "SZ6bd-xfNVal",
        "outputId": "f12650e4-6a99-49eb-ca60-6c94a8b493d6"
      },
      "execution_count": null,
      "outputs": [
        {
          "output_type": "execute_result",
          "data": {
            "text/plain": [
              "dict_values(['sri', 20, 'book reading', 'tea'])"
            ]
          },
          "metadata": {},
          "execution_count": 150
        }
      ]
    },
    {
      "cell_type": "code",
      "source": [
        "d.items()"
      ],
      "metadata": {
        "colab": {
          "base_uri": "https://localhost:8080/"
        },
        "id": "A-s7OE-aNVXt",
        "outputId": "7809bfff-90c4-41c1-f1cd-50c26697595e"
      },
      "execution_count": null,
      "outputs": [
        {
          "output_type": "execute_result",
          "data": {
            "text/plain": [
              "dict_items([('name', 'sri'), ('age', 20), ('hobby', 'book reading'), ('drink', 'tea')])"
            ]
          },
          "metadata": {},
          "execution_count": 151
        }
      ]
    },
    {
      "cell_type": "code",
      "source": [
        "## keys are immutable whereas values are mutable"
      ],
      "metadata": {
        "id": "xbCKXXUlNVU2"
      },
      "execution_count": null,
      "outputs": []
    },
    {
      "cell_type": "code",
      "source": [
        "d['age'] = 40"
      ],
      "metadata": {
        "id": "EdHamHn0NVR-"
      },
      "execution_count": null,
      "outputs": []
    },
    {
      "cell_type": "code",
      "source": [
        "d['hobby'] = 'sleeping'"
      ],
      "metadata": {
        "id": "EgD8wdUTNVPI"
      },
      "execution_count": null,
      "outputs": []
    },
    {
      "cell_type": "code",
      "source": [
        "d"
      ],
      "metadata": {
        "colab": {
          "base_uri": "https://localhost:8080/"
        },
        "id": "DqpdKZtyNVMQ",
        "outputId": "f803a3e5-e040-4fd9-cb03-698f217e79b4"
      },
      "execution_count": null,
      "outputs": [
        {
          "output_type": "execute_result",
          "data": {
            "text/plain": [
              "{'name': 'sri', 'age': 40, 'hobby': 'sleeping', 'drink': 'tea'}"
            ]
          },
          "metadata": {},
          "execution_count": 158
        }
      ]
    },
    {
      "cell_type": "code",
      "source": [],
      "metadata": {
        "id": "AtASieH8NVJI"
      },
      "execution_count": null,
      "outputs": []
    },
    {
      "cell_type": "code",
      "source": [],
      "metadata": {
        "id": "Mj1WI5qpNVGI"
      },
      "execution_count": null,
      "outputs": []
    }
  ]
}