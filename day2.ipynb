{
  "nbformat": 4,
  "nbformat_minor": 0,
  "metadata": {
    "colab": {
      "provenance": [],
      "authorship_tag": "ABX9TyOpt/w4TbkPXOTBFZPILUND",
      "include_colab_link": true
    },
    "kernelspec": {
      "name": "python3",
      "display_name": "Python 3"
    },
    "language_info": {
      "name": "python"
    }
  },
  "cells": [
    {
      "cell_type": "markdown",
      "metadata": {
        "id": "view-in-github",
        "colab_type": "text"
      },
      "source": [
        "<a href=\"https://colab.research.google.com/github/bhimra/PythonBay/blob/master/day2.ipynb\" target=\"_parent\"><img src=\"https://colab.research.google.com/assets/colab-badge.svg\" alt=\"Open In Colab\"/></a>"
      ]
    },
    {
      "cell_type": "code",
      "execution_count": null,
      "metadata": {
        "id": "iGV6XLzDzkLk"
      },
      "outputs": [],
      "source": [
        "nested_list=[10,20,30,['A','O'],90,100,10000,'bye','80','200',800,50,20000]"
      ]
    },
    {
      "cell_type": "code",
      "source": [],
      "metadata": {
        "id": "selOJdb-27LU"
      },
      "execution_count": null,
      "outputs": []
    },
    {
      "cell_type": "code",
      "source": [
        "#extract all the items from 5th index to last element in nested\n",
        "#formula : list_name[ startindex : finishIndex+1]\n",
        "\n",
        "nested_list[5:10]"
      ],
      "metadata": {
        "colab": {
          "base_uri": "https://localhost:8080/",
          "height": 182
        },
        "id": "zQw4cvV_z1MO",
        "outputId": "2e6b2357-f6a0-4432-b258-2f6cbe8920d9"
      },
      "execution_count": null,
      "outputs": [
        {
          "output_type": "error",
          "ename": "NameError",
          "evalue": "name 'nested_list' is not defined",
          "traceback": [
            "\u001b[0;31m---------------------------------------------------------------------------\u001b[0m",
            "\u001b[0;31mNameError\u001b[0m                                 Traceback (most recent call last)",
            "\u001b[0;32m<ipython-input-2-a06a0f41bd81>\u001b[0m in \u001b[0;36m<cell line: 0>\u001b[0;34m()\u001b[0m\n\u001b[1;32m      2\u001b[0m \u001b[0;31m#formula : list_name[ startindex : finishIndex+1]\u001b[0m\u001b[0;34m\u001b[0m\u001b[0;34m\u001b[0m\u001b[0m\n\u001b[1;32m      3\u001b[0m \u001b[0;34m\u001b[0m\u001b[0m\n\u001b[0;32m----> 4\u001b[0;31m \u001b[0mnested_list\u001b[0m\u001b[0;34m[\u001b[0m\u001b[0;36m5\u001b[0m\u001b[0;34m:\u001b[0m\u001b[0;36m10\u001b[0m\u001b[0;34m]\u001b[0m\u001b[0;34m\u001b[0m\u001b[0;34m\u001b[0m\u001b[0m\n\u001b[0m",
            "\u001b[0;31mNameError\u001b[0m: name 'nested_list' is not defined"
          ]
        }
      ]
    },
    {
      "cell_type": "code",
      "source": [],
      "metadata": {
        "id": "u53y5Wuu5pDx"
      },
      "execution_count": null,
      "outputs": []
    },
    {
      "cell_type": "code",
      "source": [
        "nested_list[3:10:3]"
      ],
      "metadata": {
        "id": "OUwYt2Xr5l9D"
      },
      "execution_count": null,
      "outputs": []
    },
    {
      "cell_type": "code",
      "source": [
        "### extract items by jumping certain elements\n",
        "## list_name[ startindex :finishindex+1, no. of items from cuurent item you want]\n",
        "nested_list[1:10:2]"
      ],
      "metadata": {
        "colab": {
          "base_uri": "https://localhost:8080/"
        },
        "id": "NmSwt5Ch2P5A",
        "outputId": "d9907c8a-261f-4d8c-d5f3-36c91e768cbd"
      },
      "execution_count": null,
      "outputs": [
        {
          "output_type": "execute_result",
          "data": {
            "text/plain": [
              "[20, ['A', 'O'], 100, 'bye', '200']"
            ]
          },
          "metadata": {},
          "execution_count": 4
        }
      ]
    },
    {
      "cell_type": "code",
      "source": [
        "nested_list[1:10:4]"
      ],
      "metadata": {
        "colab": {
          "base_uri": "https://localhost:8080/"
        },
        "id": "kRk182x_3KqS",
        "outputId": "58656539-bc38-4fec-d5e5-b2460adddde8"
      },
      "execution_count": null,
      "outputs": [
        {
          "output_type": "execute_result",
          "data": {
            "text/plain": [
              "[20, 100, '200']"
            ]
          },
          "metadata": {},
          "execution_count": 6
        }
      ]
    },
    {
      "cell_type": "code",
      "source": [
        "nested_list[0:10:4]"
      ],
      "metadata": {
        "colab": {
          "base_uri": "https://localhost:8080/"
        },
        "id": "pdKBOGor3URt",
        "outputId": "1e447cce-3082-4a5d-d42e-a7dcac9897a0"
      },
      "execution_count": null,
      "outputs": [
        {
          "output_type": "execute_result",
          "data": {
            "text/plain": [
              "[10, 90, '80']"
            ]
          },
          "metadata": {},
          "execution_count": 7
        }
      ]
    },
    {
      "cell_type": "code",
      "source": [
        "nested_list=[10,20,30,['A','O'],90,100,10000,'bye','80','200',800,50,20000,80000,50000]"
      ],
      "metadata": {
        "id": "hjfWVm375DuU"
      },
      "execution_count": null,
      "outputs": []
    },
    {
      "cell_type": "code",
      "source": [
        "nested_list[3:10:3]"
      ],
      "metadata": {
        "colab": {
          "base_uri": "https://localhost:8080/"
        },
        "id": "A-NBpmIZ4c5w",
        "outputId": "dcbb5d9f-8268-4835-b037-1652bff1a991"
      },
      "execution_count": null,
      "outputs": [
        {
          "output_type": "execute_result",
          "data": {
            "text/plain": [
              "[['A', 'O'], 10000, '200']"
            ]
          },
          "metadata": {},
          "execution_count": 18
        }
      ]
    },
    {
      "cell_type": "code",
      "source": [
        "nested_list[-1]"
      ],
      "metadata": {
        "colab": {
          "base_uri": "https://localhost:8080/"
        },
        "id": "3EBS3nj851WZ",
        "outputId": "f6801382-7628-4f79-9091-abf17b2d5728"
      },
      "execution_count": null,
      "outputs": [
        {
          "output_type": "execute_result",
          "data": {
            "text/plain": [
              "20000"
            ]
          },
          "metadata": {},
          "execution_count": 19
        }
      ]
    },
    {
      "cell_type": "code",
      "source": [
        "nested_list[-3]"
      ],
      "metadata": {
        "colab": {
          "base_uri": "https://localhost:8080/"
        },
        "id": "UjXzG8WC86bk",
        "outputId": "00ef55b7-9717-4845-dede-a22b0f2ea96a"
      },
      "execution_count": null,
      "outputs": [
        {
          "output_type": "execute_result",
          "data": {
            "text/plain": [
              "800"
            ]
          },
          "metadata": {},
          "execution_count": 20
        }
      ]
    },
    {
      "cell_type": "code",
      "source": [
        "nested_list[-6:15]"
      ],
      "metadata": {
        "colab": {
          "base_uri": "https://localhost:8080/"
        },
        "id": "TB8kvz708-bt",
        "outputId": "f959ba95-0b0a-4af2-8c14-171fa6edbd0b"
      },
      "execution_count": null,
      "outputs": [
        {
          "output_type": "execute_result",
          "data": {
            "text/plain": [
              "['200', 800, 50, 20000, 80000, 50000]"
            ]
          },
          "metadata": {},
          "execution_count": 24
        }
      ]
    },
    {
      "cell_type": "code",
      "source": [
        "nested_list[-6:]"
      ],
      "metadata": {
        "colab": {
          "base_uri": "https://localhost:8080/"
        },
        "id": "VgEzDLUW9V2w",
        "outputId": "cf0b8c72-763e-4188-a0b8-f73604f6d24e"
      },
      "execution_count": null,
      "outputs": [
        {
          "output_type": "execute_result",
          "data": {
            "text/plain": [
              "['200', 800, 50, 20000, 80000, 50000]"
            ]
          },
          "metadata": {},
          "execution_count": 25
        }
      ]
    },
    {
      "cell_type": "code",
      "source": [
        "nested_list[-8:-2]\n",
        "# 8last , 3 last number"
      ],
      "metadata": {
        "colab": {
          "base_uri": "https://localhost:8080/"
        },
        "id": "t3GF6ejL97SF",
        "outputId": "4b8fb759-a625-430f-e7a2-75179eb1f959"
      },
      "execution_count": null,
      "outputs": [
        {
          "output_type": "execute_result",
          "data": {
            "text/plain": [
              "['bye', '80', '200', 800, 50, 20000]"
            ]
          },
          "metadata": {},
          "execution_count": 33
        }
      ]
    },
    {
      "cell_type": "markdown",
      "source": [
        "# method in a list"
      ],
      "metadata": {
        "id": "xJlXo1-6_9n7"
      }
    },
    {
      "cell_type": "code",
      "source": [
        "ML=['tarun','anurag','pranav','sri']"
      ],
      "metadata": {
        "id": "wuT9lf9c-CEm"
      },
      "execution_count": null,
      "outputs": []
    },
    {
      "cell_type": "code",
      "source": [
        "ML.append('preeti')"
      ],
      "metadata": {
        "id": "lXur2Ut_AJ9t"
      },
      "execution_count": null,
      "outputs": []
    },
    {
      "cell_type": "code",
      "source": [
        "ML"
      ],
      "metadata": {
        "colab": {
          "base_uri": "https://localhost:8080/"
        },
        "id": "ic6dHN1xANNJ",
        "outputId": "9f0ca65b-6f9e-4337-86c9-175923a3986f"
      },
      "execution_count": null,
      "outputs": [
        {
          "output_type": "execute_result",
          "data": {
            "text/plain": [
              "['tarun', 'anurag', 'pranav', 'sri', 'preeti']"
            ]
          },
          "metadata": {},
          "execution_count": 36
        }
      ]
    },
    {
      "cell_type": "code",
      "source": [
        "YL=[10,20,30]"
      ],
      "metadata": {
        "id": "hFx6be91AQDk"
      },
      "execution_count": null,
      "outputs": []
    },
    {
      "cell_type": "code",
      "source": [
        "ML.append(YL)"
      ],
      "metadata": {
        "id": "-kIqf4cBAVfQ"
      },
      "execution_count": null,
      "outputs": []
    },
    {
      "cell_type": "code",
      "source": [
        "ML"
      ],
      "metadata": {
        "colab": {
          "base_uri": "https://localhost:8080/"
        },
        "id": "nBwlFW5WAaoE",
        "outputId": "f5bc051f-0404-47f1-9457-b1a3c55670fe"
      },
      "execution_count": null,
      "outputs": [
        {
          "output_type": "execute_result",
          "data": {
            "text/plain": [
              "['tarun', 'anurag', 'pranav', 'sri', 'preeti', [10, 20, 30]]"
            ]
          },
          "metadata": {},
          "execution_count": 39
        }
      ]
    },
    {
      "cell_type": "code",
      "source": [
        "ML.extend(YL)   ##each item is separtely added to list"
      ],
      "metadata": {
        "id": "b6u8M78VAbjv"
      },
      "execution_count": null,
      "outputs": []
    },
    {
      "cell_type": "code",
      "source": [
        "ML"
      ],
      "metadata": {
        "colab": {
          "base_uri": "https://localhost:8080/"
        },
        "id": "2y3Q182EAvMD",
        "outputId": "2816db4f-d3d7-47f1-ec27-1f86094f6ff5"
      },
      "execution_count": null,
      "outputs": [
        {
          "output_type": "execute_result",
          "data": {
            "text/plain": [
              "['tarun', 'anurag', 'pranav', 'sri', 'preeti', [10, 20, 30], 10, 20, 30]"
            ]
          },
          "metadata": {},
          "execution_count": 41
        }
      ]
    },
    {
      "cell_type": "code",
      "source": [
        "ML.insert(2,'hello')"
      ],
      "metadata": {
        "id": "d4UiF_FeAwAR"
      },
      "execution_count": null,
      "outputs": []
    },
    {
      "cell_type": "code",
      "source": [
        "ML"
      ],
      "metadata": {
        "colab": {
          "base_uri": "https://localhost:8080/"
        },
        "id": "rPQwg9aCCUHe",
        "outputId": "4d0cafcf-5080-442f-86ed-55789fbb21f8"
      },
      "execution_count": null,
      "outputs": [
        {
          "output_type": "execute_result",
          "data": {
            "text/plain": [
              "['tarun',\n",
              " 'anurag',\n",
              " 'hello',\n",
              " 'pranav',\n",
              " 'sri',\n",
              " 'preeti',\n",
              " [10, 20, 30],\n",
              " 10,\n",
              " 20,\n",
              " 30]"
            ]
          },
          "metadata": {},
          "execution_count": 43
        }
      ]
    },
    {
      "cell_type": "code",
      "source": [
        "ML.pop(3)"
      ],
      "metadata": {
        "colab": {
          "base_uri": "https://localhost:8080/",
          "height": 36
        },
        "id": "Y0EUUFpcCWus",
        "outputId": "80c894df-8f7d-4e58-fc2c-561beae56444"
      },
      "execution_count": null,
      "outputs": [
        {
          "output_type": "execute_result",
          "data": {
            "text/plain": [
              "'pranav'"
            ],
            "application/vnd.google.colaboratory.intrinsic+json": {
              "type": "string"
            }
          },
          "metadata": {},
          "execution_count": 44
        }
      ]
    },
    {
      "cell_type": "code",
      "source": [
        "ML.remove('hello')"
      ],
      "metadata": {
        "id": "ipDhwXuGCgpP"
      },
      "execution_count": null,
      "outputs": []
    },
    {
      "cell_type": "code",
      "source": [
        "ML.pop(5)"
      ],
      "metadata": {
        "id": "WKReJt6mC966"
      },
      "execution_count": null,
      "outputs": []
    },
    {
      "cell_type": "code",
      "source": [
        "ML=['tarun', 'anurag', 'sri', 'preeti',10, 20, 30, 10, 20, 30,50,60,70]"
      ],
      "metadata": {
        "id": "x2QhtmJHCmwr"
      },
      "execution_count": null,
      "outputs": []
    },
    {
      "cell_type": "code",
      "source": [],
      "metadata": {
        "id": "GEkYrzweDRm6"
      },
      "execution_count": null,
      "outputs": []
    },
    {
      "cell_type": "code",
      "source": [
        "marks=[40,30,80,50,90,10,95,93,62,70]"
      ],
      "metadata": {
        "id": "Gq8WXotICos6"
      },
      "execution_count": null,
      "outputs": []
    },
    {
      "cell_type": "code",
      "source": [
        "marks.sort()"
      ],
      "metadata": {
        "id": "B0gqLmqTC2Eh"
      },
      "execution_count": null,
      "outputs": []
    },
    {
      "cell_type": "code",
      "source": [
        "marks"
      ],
      "metadata": {
        "colab": {
          "base_uri": "https://localhost:8080/"
        },
        "id": "RkNNSe1EC4Gf",
        "outputId": "0c4464ff-1131-45cf-c437-9f7c9be9dc82"
      },
      "execution_count": null,
      "outputs": [
        {
          "output_type": "execute_result",
          "data": {
            "text/plain": [
              "[10, 30, 40, 50, 62, 70, 80, 90, 93, 95]"
            ]
          },
          "metadata": {},
          "execution_count": 52
        }
      ]
    },
    {
      "cell_type": "code",
      "source": [
        "marks.sort(reverse=True)"
      ],
      "metadata": {
        "id": "N5ThIf4pDWkj"
      },
      "execution_count": null,
      "outputs": []
    },
    {
      "cell_type": "code",
      "source": [
        "stu_names=['tarun','anurag','pranav','sri']"
      ],
      "metadata": {
        "id": "b1AZDkXUDbfi"
      },
      "execution_count": null,
      "outputs": []
    },
    {
      "cell_type": "code",
      "source": [
        "stu_names.reverse()"
      ],
      "metadata": {
        "id": "HEkmugJxDsVi"
      },
      "execution_count": null,
      "outputs": []
    },
    {
      "cell_type": "code",
      "source": [
        "stu_names"
      ],
      "metadata": {
        "colab": {
          "base_uri": "https://localhost:8080/"
        },
        "id": "ELgZCW4dDwH5",
        "outputId": "e6ae4563-efb0-4a9c-b496-068c4c0813fb"
      },
      "execution_count": null,
      "outputs": [
        {
          "output_type": "execute_result",
          "data": {
            "text/plain": [
              "['sri', 'pranav', 'anurag', 'tarun']"
            ]
          },
          "metadata": {},
          "execution_count": 58
        }
      ]
    },
    {
      "cell_type": "code",
      "source": [
        "stu_names[2]='himanshu'  ###replace"
      ],
      "metadata": {
        "id": "OcT9ShjbD1Vz"
      },
      "execution_count": null,
      "outputs": []
    },
    {
      "cell_type": "code",
      "source": [
        "stu_names"
      ],
      "metadata": {
        "colab": {
          "base_uri": "https://localhost:8080/"
        },
        "id": "YSla3zIdEQgE",
        "outputId": "23b4d634-b9b6-46e0-be1e-09673f261975"
      },
      "execution_count": null,
      "outputs": [
        {
          "output_type": "execute_result",
          "data": {
            "text/plain": [
              "['sri', 'pranav', 'himanshu', 'tarun']"
            ]
          },
          "metadata": {},
          "execution_count": 60
        }
      ]
    },
    {
      "cell_type": "code",
      "source": [
        "stu_names_desc="
      ],
      "metadata": {
        "id": "7XpC4IO6ESbj",
        "colab": {
          "base_uri": "https://localhost:8080/",
          "height": 110
        },
        "outputId": "ac7a2efe-c847-4354-9e03-0aec399e23b2"
      },
      "execution_count": 61,
      "outputs": [
        {
          "output_type": "error",
          "ename": "SyntaxError",
          "evalue": "invalid syntax (<ipython-input-61-19f3c8cabd2e>, line 1)",
          "traceback": [
            "\u001b[0;36m  File \u001b[0;32m\"<ipython-input-61-19f3c8cabd2e>\"\u001b[0;36m, line \u001b[0;32m1\u001b[0m\n\u001b[0;31m    stu_names_desc=\u001b[0m\n\u001b[0m                   ^\u001b[0m\n\u001b[0;31mSyntaxError\u001b[0m\u001b[0;31m:\u001b[0m invalid syntax\n"
          ]
        }
      ]
    },
    {
      "cell_type": "markdown",
      "source": [
        "# TUPLE\n",
        "\n",
        "1. tuple is a datatype which is stored in a round bracket.\n",
        "2. Supports indexing.\n",
        "3. It allows multiple datatypes inside it\n",
        "4. tuples are immutables whereas lists are mutable.\n"
      ],
      "metadata": {
        "id": "PMLmL1M7MFdi"
      }
    },
    {
      "cell_type": "code",
      "source": [
        "tuple_1=()\n",
        "print(type(tuple_1))"
      ],
      "metadata": {
        "colab": {
          "base_uri": "https://localhost:8080/"
        },
        "id": "CpybbfJHMD0X",
        "outputId": "578362b6-3826-48fb-8d31-789c12114c66"
      },
      "execution_count": 63,
      "outputs": [
        {
          "output_type": "stream",
          "name": "stdout",
          "text": [
            "<class 'tuple'>\n"
          ]
        }
      ]
    },
    {
      "cell_type": "code",
      "source": [
        "t_obj=(12,38.9,'h',True,[12,'a',89])"
      ],
      "metadata": {
        "id": "xcIsGl6WM1Ca"
      },
      "execution_count": 64,
      "outputs": []
    },
    {
      "cell_type": "code",
      "source": [
        "t_obj"
      ],
      "metadata": {
        "colab": {
          "base_uri": "https://localhost:8080/"
        },
        "id": "IdI20VhYNEeQ",
        "outputId": "7d087d39-1586-497f-b49f-0ddb108b08fe"
      },
      "execution_count": 65,
      "outputs": [
        {
          "output_type": "execute_result",
          "data": {
            "text/plain": [
              "(12, 38.9, 'h', True, [12, 'a', 89])"
            ]
          },
          "metadata": {},
          "execution_count": 65
        }
      ]
    },
    {
      "cell_type": "code",
      "source": [
        "#out = (38.9,'h',True)\n",
        "t_obj[1:4]"
      ],
      "metadata": {
        "colab": {
          "base_uri": "https://localhost:8080/"
        },
        "id": "3vu41gZ-NGSY",
        "outputId": "a218850a-76d2-4e1d-885d-ab48453b54c3"
      },
      "execution_count": 66,
      "outputs": [
        {
          "output_type": "execute_result",
          "data": {
            "text/plain": [
              "(38.9, 'h', True)"
            ]
          },
          "metadata": {},
          "execution_count": 66
        }
      ]
    },
    {
      "cell_type": "code",
      "source": [
        "t_obj[2]='pranav' #this property of tuple is 'immutablity unlike lists which are mutable'."
      ],
      "metadata": {
        "colab": {
          "base_uri": "https://localhost:8080/",
          "height": 146
        },
        "id": "RaidA-t4NUpd",
        "outputId": "4a2e7d48-030a-46fd-95df-c7c9088da2f5"
      },
      "execution_count": 67,
      "outputs": [
        {
          "output_type": "error",
          "ename": "TypeError",
          "evalue": "'tuple' object does not support item assignment",
          "traceback": [
            "\u001b[0;31m---------------------------------------------------------------------------\u001b[0m",
            "\u001b[0;31mTypeError\u001b[0m                                 Traceback (most recent call last)",
            "\u001b[0;32m<ipython-input-67-bcd84e2df53a>\u001b[0m in \u001b[0;36m<cell line: 0>\u001b[0;34m()\u001b[0m\n\u001b[0;32m----> 1\u001b[0;31m \u001b[0mt_obj\u001b[0m\u001b[0;34m[\u001b[0m\u001b[0;36m2\u001b[0m\u001b[0;34m]\u001b[0m\u001b[0;34m=\u001b[0m\u001b[0;34m'pranav'\u001b[0m \u001b[0;31m#this property of tuple is 'immutablity unlike lists which are mutable'.\u001b[0m\u001b[0;34m\u001b[0m\u001b[0;34m\u001b[0m\u001b[0m\n\u001b[0m",
            "\u001b[0;31mTypeError\u001b[0m: 'tuple' object does not support item assignment"
          ]
        }
      ]
    },
    {
      "cell_type": "markdown",
      "source": [
        "# Difference between list & tuple.\n",
        "1. list is declared in [] wheras tuples in ().\n",
        "2. list = mutables & tuples = immutable.\n",
        "3. tuples are faster than lists.\n",
        "\n"
      ],
      "metadata": {
        "id": "UiNd2foXNnOK"
      }
    },
    {
      "cell_type": "markdown",
      "source": [
        "# Dictionary\n",
        "A Python dictionary is a data structure that stores the value in key: value pairs. Values in a dictionary can be of any data type and can be duplicated, whereas keys can’t be repeated and must be immutable.\n",
        "\n",
        "Example: Here, The data is stored in key:value pairs in dictionaries, which makes it easier to find values."
      ],
      "metadata": {
        "id": "SvRLSaJWOenJ"
      }
    },
    {
      "cell_type": "code",
      "source": [
        "d = {1: 'Geeks', 2: 'For', 3: 'Geeks'}\n",
        "print(d)"
      ],
      "metadata": {
        "colab": {
          "base_uri": "https://localhost:8080/"
        },
        "id": "3aTNmLacNjP2",
        "outputId": "41a0efab-c71e-4840-e71f-8244cd507619"
      },
      "execution_count": 72,
      "outputs": [
        {
          "output_type": "stream",
          "name": "stdout",
          "text": [
            "{1: 'Geeks', 2: 'For', 3: 'Geeks'}\n"
          ]
        }
      ]
    },
    {
      "cell_type": "code",
      "source": [
        "d = {'name':'sri', 'age':20,'hobby':'book','drink':'tea'}\n",
        "d['age']"
      ],
      "metadata": {
        "colab": {
          "base_uri": "https://localhost:8080/"
        },
        "id": "HUM3_afqRzmF",
        "outputId": "38274789-97da-40c9-cfc4-7099b95fc50c"
      },
      "execution_count": 74,
      "outputs": [
        {
          "output_type": "execute_result",
          "data": {
            "text/plain": [
              "20"
            ]
          },
          "metadata": {},
          "execution_count": 74
        }
      ]
    },
    {
      "cell_type": "code",
      "source": [
        "d.keys()\n"
      ],
      "metadata": {
        "colab": {
          "base_uri": "https://localhost:8080/"
        },
        "id": "k073_3KKSMyE",
        "outputId": "8779526e-7e7b-450f-e388-fb5c275aefe9"
      },
      "execution_count": 81,
      "outputs": [
        {
          "output_type": "execute_result",
          "data": {
            "text/plain": [
              "dict_keys(['name', 'age', 'hobby', 'drink'])"
            ]
          },
          "metadata": {},
          "execution_count": 81
        }
      ]
    },
    {
      "cell_type": "code",
      "source": [
        "d.values()"
      ],
      "metadata": {
        "colab": {
          "base_uri": "https://localhost:8080/"
        },
        "id": "eNFwpDIWSZjX",
        "outputId": "d96b37dd-9309-4f6f-85a6-9d2791aa5993"
      },
      "execution_count": 80,
      "outputs": [
        {
          "output_type": "execute_result",
          "data": {
            "text/plain": [
              "dict_values(['sri', 20, 'book', 'tea'])"
            ]
          },
          "metadata": {},
          "execution_count": 80
        }
      ]
    },
    {
      "cell_type": "code",
      "source": [
        "d.items()"
      ],
      "metadata": {
        "colab": {
          "base_uri": "https://localhost:8080/"
        },
        "id": "oz824c0wSZgT",
        "outputId": "9c02ee2b-5c21-4123-be9e-ce07a00baf0a"
      },
      "execution_count": 82,
      "outputs": [
        {
          "output_type": "execute_result",
          "data": {
            "text/plain": [
              "dict_items([('name', 'sri'), ('age', 20), ('hobby', 'book'), ('drink', 'tea')])"
            ]
          },
          "metadata": {},
          "execution_count": 82
        }
      ]
    },
    {
      "cell_type": "code",
      "source": [],
      "metadata": {
        "id": "AwZNcaP9SZaT"
      },
      "execution_count": null,
      "outputs": []
    },
    {
      "cell_type": "code",
      "source": [],
      "metadata": {
        "id": "vLfLyFUYSZWS"
      },
      "execution_count": null,
      "outputs": []
    },
    {
      "cell_type": "code",
      "source": [],
      "metadata": {
        "id": "0Gw4_-dcSZGO"
      },
      "execution_count": null,
      "outputs": []
    },
    {
      "cell_type": "markdown",
      "source": [
        "# How to Create a Dictionary\n",
        "In Python, a dictionary can be created by placing a sequence of elements within curly {} braces, separated by a ‘comma’."
      ],
      "metadata": {
        "id": "UoP_OiCXP_Xh"
      }
    },
    {
      "cell_type": "code",
      "source": [
        "# create dictionary using { }\n",
        "d1 = {1: 'Geeks', 2: 'For', 3: 'Geeks'}\n",
        "print(d1)\n",
        "\n",
        "# create dictionary using dict() constructor\n",
        "d2 = dict(a = \"Geeks\", b = \"for\", c = \"Geeks\")\n",
        "print(d2)"
      ],
      "metadata": {
        "colab": {
          "base_uri": "https://localhost:8080/"
        },
        "id": "1FHrawoWP429",
        "outputId": "2a8671c9-ea94-4fbe-bfdb-5f7701c21a98"
      },
      "execution_count": 69,
      "outputs": [
        {
          "output_type": "stream",
          "name": "stdout",
          "text": [
            "{1: 'Geeks', 2: 'For', 3: 'Geeks'}\n",
            "{'a': 'Geeks', 'b': 'for', 'c': 'Geeks'}\n"
          ]
        }
      ]
    },
    {
      "cell_type": "code",
      "source": [],
      "metadata": {
        "id": "k85vSHwqSZdh"
      },
      "execution_count": null,
      "outputs": []
    },
    {
      "cell_type": "code",
      "source": [],
      "metadata": {
        "id": "A7FbPOlqSxo6"
      },
      "execution_count": null,
      "outputs": []
    },
    {
      "cell_type": "code",
      "source": [],
      "metadata": {
        "id": "UcLpSA4cSxeG"
      },
      "execution_count": null,
      "outputs": []
    },
    {
      "cell_type": "markdown",
      "source": [
        "\n",
        "\n",
        "1. From Python 3.7 Version onward, Python dictionary are Ordered.\n",
        "2. Dictionary keys are case sensitive: the same name but different cases of Key will be treated distinctly.\n",
        "3. Keys must be immutable: This means keys can be strings, numbers, or tuples but not lists.\n",
        "4. Keys must be unique: Duplicate keys are not allowed and any duplicate key will overwrite the previous value.\n",
        "5. Dictionary internally uses Hashing. Hence, operations like search, insert, delete can be performed in Constant Time.\n",
        "\n",
        "\n"
      ],
      "metadata": {
        "id": "SWkdAcF_QGqF"
      }
    },
    {
      "cell_type": "markdown",
      "source": [
        "# Accessing Dictionary Items.\n",
        "\n",
        "We can access a value from a dictionary by using the key within square brackets or get()method."
      ],
      "metadata": {
        "id": "Kfj_9hdtQkyV"
      }
    },
    {
      "cell_type": "code",
      "source": [
        "d = { \"name\": \"Alice\", 1: \"Python\", (1, 2): [1,2,4] }\n",
        "\n",
        "# Access using key\n",
        "print(d[\"name\"])\n",
        "\n",
        "# Access using get()\n",
        "print(d.get(\"name\"))\n",
        "\n",
        "\n"
      ],
      "metadata": {
        "colab": {
          "base_uri": "https://localhost:8080/"
        },
        "id": "pUp3S5kWQZ4-",
        "outputId": "561153dc-0396-4531-b9c7-01d4689a5f54"
      },
      "execution_count": 70,
      "outputs": [
        {
          "output_type": "stream",
          "name": "stdout",
          "text": [
            "Alice\n",
            "Alice\n"
          ]
        }
      ]
    },
    {
      "cell_type": "markdown",
      "source": [
        "# Adding and Updating Dictionary Items\n",
        "We can add new key-value pairs or update existing keys by using assignment."
      ],
      "metadata": {
        "id": "Mqj-B28fQ6U5"
      }
    },
    {
      "cell_type": "code",
      "source": [
        "d = {1: 'Geeks', 2: 'For', 3: 'Geeks'}\n",
        "\n",
        "# Adding a new key-value pair\n",
        "d[\"age\"] = 22\n",
        "\n",
        "# Updating an existing value\n",
        "d[1] = \"Python dict\"\n",
        "\n",
        "print(d)"
      ],
      "metadata": {
        "colab": {
          "base_uri": "https://localhost:8080/"
        },
        "id": "RdSqa4niQ3Y2",
        "outputId": "84c38122-6d3d-4aba-c2f0-bfa9bc43d694"
      },
      "execution_count": 71,
      "outputs": [
        {
          "output_type": "stream",
          "name": "stdout",
          "text": [
            "{1: 'Python dict', 2: 'For', 3: 'Geeks', 'age': 22}\n"
          ]
        }
      ]
    },
    {
      "cell_type": "code",
      "source": [
        "## read from different site,\n",
        "## try to read abt if-else  statemnt loops (for & while )"
      ],
      "metadata": {
        "id": "E04wHm5hQ8QN"
      },
      "execution_count": null,
      "outputs": []
    }
  ]
}