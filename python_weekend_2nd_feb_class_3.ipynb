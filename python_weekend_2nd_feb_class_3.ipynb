{
  "nbformat": 4,
  "nbformat_minor": 0,
  "metadata": {
    "colab": {
      "provenance": [],
      "include_colab_link": true
    },
    "kernelspec": {
      "name": "python3",
      "display_name": "Python 3"
    },
    "language_info": {
      "name": "python"
    }
  },
  "cells": [
    {
      "cell_type": "markdown",
      "metadata": {
        "id": "view-in-github",
        "colab_type": "text"
      },
      "source": [
        "<a href=\"https://colab.research.google.com/github/bhimra/PythonBay/blob/master/python_weekend_2nd_feb_class_3.ipynb\" target=\"_parent\"><img src=\"https://colab.research.google.com/assets/colab-badge.svg\" alt=\"Open In Colab\"/></a>"
      ]
    },
    {
      "cell_type": "code",
      "execution_count": null,
      "metadata": {
        "colab": {
          "base_uri": "https://localhost:8080/"
        },
        "id": "Ccau5sMo6lnE",
        "outputId": "97ed868b-66e7-42ff-990f-8cd33d8a72a9"
      },
      "outputs": [
        {
          "output_type": "execute_result",
          "data": {
            "text/plain": [
              "5.0"
            ]
          },
          "metadata": {},
          "execution_count": 3
        }
      ],
      "source": [
        "10/2\n"
      ]
    },
    {
      "cell_type": "code",
      "source": [
        "\"10\"/2. # string cant be divided by integer"
      ],
      "metadata": {
        "colab": {
          "base_uri": "https://localhost:8080/",
          "height": 141
        },
        "id": "kv9rzqb26osO",
        "outputId": "da580b45-114e-4e86-8156-60a561bfc1dd"
      },
      "execution_count": null,
      "outputs": [
        {
          "output_type": "error",
          "ename": "TypeError",
          "evalue": "unsupported operand type(s) for /: 'str' and 'int'",
          "traceback": [
            "\u001b[0;31m---------------------------------------------------------------------------\u001b[0m",
            "\u001b[0;31mTypeError\u001b[0m                                 Traceback (most recent call last)",
            "\u001b[0;32m<ipython-input-4-3c51e96992ea>\u001b[0m in \u001b[0;36m<cell line: 0>\u001b[0;34m()\u001b[0m\n\u001b[0;32m----> 1\u001b[0;31m \u001b[0;34m\"10\"\u001b[0m\u001b[0;34m/\u001b[0m\u001b[0;36m2\u001b[0m\u001b[0;34m\u001b[0m\u001b[0;34m\u001b[0m\u001b[0m\n\u001b[0m",
            "\u001b[0;31mTypeError\u001b[0m: unsupported operand type(s) for /: 'str' and 'int'"
          ]
        }
      ]
    },
    {
      "cell_type": "code",
      "source": [
        "num = 10/2\n",
        "num"
      ],
      "metadata": {
        "id": "fD0-6g4P6voU",
        "colab": {
          "base_uri": "https://localhost:8080/"
        },
        "outputId": "0d5a002a-91a5-44e2-d01b-d3c416e2a33f"
      },
      "execution_count": null,
      "outputs": [
        {
          "output_type": "execute_result",
          "data": {
            "text/plain": [
              "5.0"
            ]
          },
          "metadata": {},
          "execution_count": 5
        }
      ]
    },
    {
      "cell_type": "code",
      "source": [
        "type(num) ## type() is used to know the datatype"
      ],
      "metadata": {
        "colab": {
          "base_uri": "https://localhost:8080/"
        },
        "id": "yruSxzT99JJC",
        "outputId": "61fa319f-ef53-40ce-c491-2ce828b116e1"
      },
      "execution_count": null,
      "outputs": [
        {
          "output_type": "execute_result",
          "data": {
            "text/plain": [
              "float"
            ]
          },
          "metadata": {},
          "execution_count": 7
        }
      ]
    },
    {
      "cell_type": "code",
      "source": [
        "num1 = \"10\"\n"
      ],
      "metadata": {
        "id": "VnopDeeo9JHd"
      },
      "execution_count": null,
      "outputs": []
    },
    {
      "cell_type": "code",
      "source": [
        "type(num1)"
      ],
      "metadata": {
        "colab": {
          "base_uri": "https://localhost:8080/"
        },
        "id": "yGuS00KM9JGJ",
        "outputId": "4a0941d6-b568-416a-c1e4-903b274da4e8"
      },
      "execution_count": null,
      "outputs": [
        {
          "output_type": "execute_result",
          "data": {
            "text/plain": [
              "str"
            ]
          },
          "metadata": {},
          "execution_count": 9
        }
      ]
    },
    {
      "cell_type": "code",
      "source": [
        "num2 = 50"
      ],
      "metadata": {
        "id": "AohHdTv19JEU"
      },
      "execution_count": null,
      "outputs": []
    },
    {
      "cell_type": "code",
      "source": [
        "type(num2)"
      ],
      "metadata": {
        "colab": {
          "base_uri": "https://localhost:8080/"
        },
        "id": "ppj5--5d9JCh",
        "outputId": "99f33c15-b4df-46f3-aa2f-c30895cc5feb"
      },
      "execution_count": null,
      "outputs": [
        {
          "output_type": "execute_result",
          "data": {
            "text/plain": [
              "int"
            ]
          },
          "metadata": {},
          "execution_count": 11
        }
      ]
    },
    {
      "cell_type": "code",
      "source": [
        "\"\"\"\n",
        "1.convert num to int and string\n",
        "2.conver num1 to int and float\n",
        "3.convert num2 to float and string\n",
        "\"\"\""
      ],
      "metadata": {
        "id": "y9OC0snq9JA8"
      },
      "execution_count": null,
      "outputs": []
    },
    {
      "cell_type": "code",
      "source": [
        "## 1\n",
        "num_int = int(num)\n",
        "num_str = str(num)\n",
        "\n",
        "\n",
        "print(type(num_int))\n",
        "\n",
        "print(type(num_str))\n",
        "\n"
      ],
      "metadata": {
        "colab": {
          "base_uri": "https://localhost:8080/"
        },
        "id": "ooB7r_WS9I_I",
        "outputId": "40deae3b-604c-4ca8-ca06-444de9651391"
      },
      "execution_count": null,
      "outputs": [
        {
          "output_type": "stream",
          "name": "stdout",
          "text": [
            "<class 'int'>\n",
            "<class 'str'>\n"
          ]
        }
      ]
    },
    {
      "cell_type": "code",
      "source": [
        "#2\n",
        "num1_int = int(num1)\n",
        "num1_float = float(num1)\n",
        "print(type(num1_int))\n",
        "print(type(num1_float))"
      ],
      "metadata": {
        "colab": {
          "base_uri": "https://localhost:8080/"
        },
        "id": "CmqnLe7Q9I9j",
        "outputId": "91f511fe-690c-456e-fe07-f47585e8ec8c"
      },
      "execution_count": null,
      "outputs": [
        {
          "output_type": "stream",
          "name": "stdout",
          "text": [
            "<class 'int'>\n",
            "<class 'float'>\n"
          ]
        }
      ]
    },
    {
      "cell_type": "code",
      "source": [
        "#3\n",
        "num2_float = float(num2)\n",
        "num2_str = str(num2)\n",
        "print(type(num2_float))\n",
        "print(type(num2_str))"
      ],
      "metadata": {
        "colab": {
          "base_uri": "https://localhost:8080/"
        },
        "id": "yhp3-I_d9I7e",
        "outputId": "471e9ec3-5026-4646-ecdb-81dea0d434f9"
      },
      "execution_count": null,
      "outputs": [
        {
          "output_type": "stream",
          "name": "stdout",
          "text": [
            "<class 'float'>\n",
            "<class 'str'>\n"
          ]
        }
      ]
    },
    {
      "cell_type": "code",
      "source": [
        "num2"
      ],
      "metadata": {
        "colab": {
          "base_uri": "https://localhost:8080/"
        },
        "id": "TUqG23oG9I5q",
        "outputId": "fa027312-a05d-4230-ac96-aaa1a8447245"
      },
      "execution_count": null,
      "outputs": [
        {
          "output_type": "execute_result",
          "data": {
            "text/plain": [
              "50"
            ]
          },
          "metadata": {},
          "execution_count": 20
        }
      ]
    },
    {
      "cell_type": "code",
      "source": [
        "num = input(\"enter a number\")\n",
        "print(num,type(num))"
      ],
      "metadata": {
        "colab": {
          "base_uri": "https://localhost:8080/"
        },
        "id": "L-bkl4xH9I31",
        "outputId": "54b27c81-b544-483e-e472-994ff4b4889d"
      },
      "execution_count": null,
      "outputs": [
        {
          "output_type": "stream",
          "name": "stdout",
          "text": [
            "enter a number100\n",
            "100 <class 'str'>\n"
          ]
        }
      ]
    },
    {
      "cell_type": "code",
      "source": [
        "num1 = int(input(\"enter a number\"))\n",
        "print(num1,type(num1))"
      ],
      "metadata": {
        "colab": {
          "base_uri": "https://localhost:8080/"
        },
        "id": "AEx4NxhU9I2A",
        "outputId": "a70a1ac9-34f6-423c-bdab-9a5363abb2af"
      },
      "execution_count": null,
      "outputs": [
        {
          "output_type": "stream",
          "name": "stdout",
          "text": [
            "enter a number200\n",
            "200 <class 'int'>\n"
          ]
        }
      ]
    },
    {
      "cell_type": "code",
      "source": [],
      "metadata": {
        "id": "a1Kd3-vv9I0c"
      },
      "execution_count": null,
      "outputs": []
    },
    {
      "cell_type": "code",
      "source": [
        "num = int(input(\"enter a number : \"))\n",
        "\n",
        "if num%2 == 0:\n",
        "    print(\"even\")\n",
        "else:\n",
        "    print(\"odd\")"
      ],
      "metadata": {
        "colab": {
          "base_uri": "https://localhost:8080/"
        },
        "id": "az38vjKn9Iy4",
        "outputId": "c3637703-2e37-4a12-a184-e78c020a80c9"
      },
      "execution_count": null,
      "outputs": [
        {
          "output_type": "stream",
          "name": "stdout",
          "text": [
            "enter a number : 500\n",
            "even\n"
          ]
        }
      ]
    },
    {
      "cell_type": "code",
      "source": [
        "## write a code to print if a num is positive,negative or zero"
      ],
      "metadata": {
        "id": "19d_vHpB9IxU"
      },
      "execution_count": null,
      "outputs": []
    },
    {
      "cell_type": "code",
      "source": [
        "## write a code to print fail for marks less than 30,\n",
        "## average for 30-50 , good for 50-80 , excellent for 80-100"
      ],
      "metadata": {
        "id": "wVpkppv-9Ivx"
      },
      "execution_count": null,
      "outputs": []
    },
    {
      "cell_type": "code",
      "source": [
        "### i. write a code to print \"leap year b/w 1500-2025\"\n",
        "#      if an year lies between 1500-2025 and is a leap year\n",
        "\n",
        "        # hint : ((year>=1500 and year <=2025) and (year %4 == 0))\n",
        "#  ii. if its a leap year before 1500\n",
        "# iii. leap year after 2025\n",
        "# iv.  not a leap year\n"
      ],
      "metadata": {
        "id": "pciGnBEK9It8"
      },
      "execution_count": null,
      "outputs": []
    },
    {
      "cell_type": "code",
      "source": [
        "# q3\n",
        "year = int(input(\"Enter a year\"))\n",
        "\n",
        "if ((year>=1500 and year <=2025) and year % 4 ==0):\n",
        "  print(\"It is a leap year and between 1500-2025\")\n",
        "\n",
        "elif ((year<1500) and year % 4 ==0):\n",
        "  print(\"It is a leap year before 1500\")\n",
        "\n",
        "elif ((year>2025) and year % 4 ==0):\n",
        "  print(\"It is a leap year after 2025\")\n",
        "\n",
        "else:\n",
        "  print(\"Not a leap year\")"
      ],
      "metadata": {
        "colab": {
          "base_uri": "https://localhost:8080/"
        },
        "id": "XY-Rs0jf9IsZ",
        "outputId": "0119df1c-cd95-4da3-be32-55401093fec7"
      },
      "execution_count": null,
      "outputs": [
        {
          "output_type": "stream",
          "name": "stdout",
          "text": [
            "Enter a year1267\n",
            "Not a leap year\n"
          ]
        }
      ]
    },
    {
      "cell_type": "code",
      "source": [
        "#q2\n",
        "num=int(input(\"Enter a number\"))\n",
        "\n",
        "if num<30:\n",
        " print(\"You are fail\")\n",
        "\n",
        "elif num>=30 and num<=50:\n",
        " print(\"Your performance is average\")\n",
        "\n",
        "elif num>=51 and num<=80:\n",
        " print(\"Your performance is good\")\n",
        "\n",
        "elif num>80 and num <=100:\n",
        " print(\"Your performance is Excellent\")\n",
        "\n",
        "elif num>100:\n",
        " print(\"Invalid input\")"
      ],
      "metadata": {
        "colab": {
          "base_uri": "https://localhost:8080/"
        },
        "id": "uKXnZ6r59Iqk",
        "outputId": "079386ce-1a2a-4b49-93bd-121849703422"
      },
      "execution_count": null,
      "outputs": [
        {
          "output_type": "stream",
          "name": "stdout",
          "text": [
            "Enter a number-42\n",
            "You are fail\n"
          ]
        }
      ]
    },
    {
      "cell_type": "code",
      "source": [
        "#q1\n",
        "\n",
        "num=int(input(\"Enter a number\"))\n",
        "if num>0:\n",
        " print(\"Number is positive\")\n",
        "elif num<0:\n",
        " print(\"Number is negative\")\n",
        "elif num==0:\n",
        " print(\"Number is Zero\")"
      ],
      "metadata": {
        "colab": {
          "base_uri": "https://localhost:8080/"
        },
        "id": "_516ttDr9IpP",
        "outputId": "e53c8845-972f-4317-b770-54cd9d508b2b"
      },
      "execution_count": null,
      "outputs": [
        {
          "output_type": "stream",
          "name": "stdout",
          "text": [
            "Enter a number-63\n",
            "Number is negative\n"
          ]
        }
      ]
    },
    {
      "cell_type": "code",
      "source": [
        "### [1232,2345,1234,1232,3242,6540,1221,8098,7680]"
      ],
      "metadata": {
        "id": "IjK3q7WS9Inr"
      },
      "execution_count": null,
      "outputs": []
    },
    {
      "cell_type": "code",
      "source": [
        "# q3\n",
        "year = int(input(\"Enter a year\"))\n",
        "\n",
        "if ((year>=1500 and year <=2025) and year % 4 ==0):\n",
        "  print(\"It is a leap year and between 1500-2025\")\n",
        "\n",
        "elif ((year<1500) and year % 4 ==0):\n",
        "  print(\"It is a leap year before 1500\")\n",
        "\n",
        "elif ((year>2025) and year % 4 ==0):\n",
        "  print(\"It is a leap year after 2025\")\n",
        "\n",
        "else:\n",
        "  print(\"Not a leap year\")"
      ],
      "metadata": {
        "colab": {
          "base_uri": "https://localhost:8080/"
        },
        "outputId": "850573c2-8721-4b4f-8bf3-ec46644f1b2b",
        "id": "O3f8bkvvhg7V"
      },
      "execution_count": null,
      "outputs": [
        {
          "output_type": "stream",
          "name": "stdout",
          "text": [
            "Enter a year2345\n",
            "Not a leap year\n"
          ]
        }
      ]
    },
    {
      "cell_type": "code",
      "source": [],
      "metadata": {
        "id": "_TObCWY59Il4"
      },
      "execution_count": null,
      "outputs": []
    },
    {
      "cell_type": "code",
      "source": [],
      "metadata": {
        "id": "TW0Cf_lV9IkS"
      },
      "execution_count": null,
      "outputs": []
    },
    {
      "cell_type": "code",
      "source": [],
      "metadata": {
        "id": "aHJsb00S9Ii_"
      },
      "execution_count": null,
      "outputs": []
    },
    {
      "cell_type": "code",
      "source": [],
      "metadata": {
        "id": "PwnyecQv9Ig6"
      },
      "execution_count": null,
      "outputs": []
    },
    {
      "cell_type": "code",
      "source": [],
      "metadata": {
        "id": "GSZenJu69IfW"
      },
      "execution_count": null,
      "outputs": []
    },
    {
      "cell_type": "code",
      "source": [],
      "metadata": {
        "id": "2IzoE0oR9Idi"
      },
      "execution_count": null,
      "outputs": []
    },
    {
      "cell_type": "code",
      "source": [],
      "metadata": {
        "id": "OWx9xAEc9Ibt"
      },
      "execution_count": null,
      "outputs": []
    },
    {
      "cell_type": "code",
      "source": [],
      "metadata": {
        "id": "stsamArH9IaO"
      },
      "execution_count": null,
      "outputs": []
    }
  ]
}